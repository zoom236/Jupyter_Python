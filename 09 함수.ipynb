{
 "cells": [
  {
   "cell_type": "markdown",
   "id": "9c388c92",
   "metadata": {},
   "source": [
    "## 함수\n",
    "특정한 기능을 반복해서 사용해야 할 때 사용 \n",
    "\n",
    "def 함수이름(인자, 매개변수) :\n",
    "\n",
    "    print(\"함수입니다.\")\n",
    "\n",
    "    return 결과값 →반환값\n",
    "→코드블럭"
   ]
  },
  {
   "cell_type": "code",
   "execution_count": 1,
   "id": "873397a1",
   "metadata": {},
   "outputs": [],
   "source": [
    "def func(a,b) :\n",
    "    print(\"더하기\")\n",
    "    return a+b "
   ]
  },
  {
   "cell_type": "code",
   "execution_count": 3,
   "id": "c9732b50",
   "metadata": {},
   "outputs": [
    {
     "name": "stdout",
     "output_type": "stream",
     "text": [
      "더하기\n"
     ]
    }
   ],
   "source": [
    "func_test = func(1,2)"
   ]
  },
  {
   "cell_type": "code",
   "execution_count": 4,
   "id": "70bd31c1",
   "metadata": {},
   "outputs": [
    {
     "name": "stdout",
     "output_type": "stream",
     "text": [
      "3\n"
     ]
    }
   ],
   "source": [
    "print(func_test)"
   ]
  },
  {
   "cell_type": "markdown",
   "id": "ae6316d9",
   "metadata": {},
   "source": [
    "## 인자와 반환값이 없는함수"
   ]
  },
  {
   "cell_type": "code",
   "execution_count": 8,
   "id": "4ac9581d",
   "metadata": {},
   "outputs": [],
   "source": [
    "def func1():\n",
    "    print(\"hello\")"
   ]
  },
  {
   "cell_type": "code",
   "execution_count": 9,
   "id": "030f8883",
   "metadata": {},
   "outputs": [
    {
     "name": "stdout",
     "output_type": "stream",
     "text": [
      "hello\n"
     ]
    }
   ],
   "source": [
    "test = func1()"
   ]
  },
  {
   "cell_type": "code",
   "execution_count": 12,
   "id": "65967b28",
   "metadata": {},
   "outputs": [
    {
     "name": "stdout",
     "output_type": "stream",
     "text": [
      "None\n"
     ]
    }
   ],
   "source": [
    "print(test)\n",
    "##반환되는 값이 없으므로 none출력"
   ]
  },
  {
   "cell_type": "markdown",
   "id": "04da11fd",
   "metadata": {},
   "source": [
    "## 인자는 있으나 반환값이 없는 함수"
   ]
  },
  {
   "cell_type": "code",
   "execution_count": 13,
   "id": "e601de46",
   "metadata": {},
   "outputs": [],
   "source": [
    "def func2(a):\n",
    "    print(a)"
   ]
  },
  {
   "cell_type": "code",
   "execution_count": 15,
   "id": "625e480c",
   "metadata": {},
   "outputs": [
    {
     "name": "stdout",
     "output_type": "stream",
     "text": [
      "안녕하세요\n"
     ]
    }
   ],
   "source": [
    "test1 = func2('안녕하세요')"
   ]
  },
  {
   "cell_type": "code",
   "execution_count": 16,
   "id": "bdbf9f26",
   "metadata": {},
   "outputs": [
    {
     "name": "stdout",
     "output_type": "stream",
     "text": [
      "None\n"
     ]
    }
   ],
   "source": [
    "print(test1)"
   ]
  },
  {
   "cell_type": "markdown",
   "id": "c13d1d56",
   "metadata": {},
   "source": [
    "## 값을 여러개 반환"
   ]
  },
  {
   "cell_type": "code",
   "execution_count": 25,
   "id": "04d84429",
   "metadata": {},
   "outputs": [],
   "source": [
    "def func3(a,b):\n",
    "    return a+b, a-b"
   ]
  },
  {
   "cell_type": "code",
   "execution_count": 26,
   "id": "fffb41ed",
   "metadata": {},
   "outputs": [],
   "source": [
    "a= func3(1,2)"
   ]
  },
  {
   "cell_type": "code",
   "execution_count": 27,
   "id": "b1270d22",
   "metadata": {},
   "outputs": [
    {
     "name": "stdout",
     "output_type": "stream",
     "text": [
      "(3, -1)\n"
     ]
    }
   ],
   "source": [
    "print(a)"
   ]
  },
  {
   "cell_type": "code",
   "execution_count": 28,
   "id": "5b15bfac",
   "metadata": {},
   "outputs": [
    {
     "name": "stdout",
     "output_type": "stream",
     "text": [
      "3\n",
      "-1\n"
     ]
    }
   ],
   "source": [
    "print(a[0])\n",
    "print(a[1])"
   ]
  },
  {
   "cell_type": "code",
   "execution_count": 29,
   "id": "eca8db58",
   "metadata": {},
   "outputs": [],
   "source": [
    "a,b = func3(3,4)"
   ]
  },
  {
   "cell_type": "code",
   "execution_count": 30,
   "id": "06d76d80",
   "metadata": {},
   "outputs": [
    {
     "name": "stdout",
     "output_type": "stream",
     "text": [
      "7\n",
      "-1\n"
     ]
    }
   ],
   "source": [
    "print(a)\n",
    "print(b)"
   ]
  },
  {
   "cell_type": "markdown",
   "id": "04bcbeb5",
   "metadata": {},
   "source": [
    "## 변수의 유효범위\n",
    "\n",
    "a = 5 →전역 변수\n",
    "\n",
    "def func1() :\n",
    "\n",
    "    a = 1 →지역 변수\n",
    "    \n",
    "지역변수 : 함수 내에서만 사용가능"
   ]
  },
  {
   "cell_type": "code",
   "execution_count": 34,
   "id": "bbd7b08f",
   "metadata": {},
   "outputs": [],
   "source": [
    "a = 5\n",
    "\n",
    "def func() :\n",
    "    a = 1\n",
    "    print(a)"
   ]
  },
  {
   "cell_type": "code",
   "execution_count": 35,
   "id": "ae2c7f3a",
   "metadata": {},
   "outputs": [
    {
     "name": "stdout",
     "output_type": "stream",
     "text": [
      "1\n"
     ]
    }
   ],
   "source": [
    "func() # 지역변수 출력"
   ]
  },
  {
   "cell_type": "code",
   "execution_count": 36,
   "id": "ad3d4c0e",
   "metadata": {},
   "outputs": [
    {
     "name": "stdout",
     "output_type": "stream",
     "text": [
      "5\n"
     ]
    }
   ],
   "source": [
    "print(a) #전역변수 출력"
   ]
  },
  {
   "cell_type": "code",
   "execution_count": 37,
   "id": "fbe5c8c0",
   "metadata": {},
   "outputs": [],
   "source": [
    "a = 5\n",
    "\n",
    "def func() :\n",
    "    global a\n",
    "    a = 1\n",
    "    print(a)"
   ]
  },
  {
   "cell_type": "code",
   "execution_count": 38,
   "id": "ec6fca46",
   "metadata": {},
   "outputs": [
    {
     "name": "stdout",
     "output_type": "stream",
     "text": [
      "1\n"
     ]
    }
   ],
   "source": [
    "func()"
   ]
  },
  {
   "cell_type": "code",
   "execution_count": 39,
   "id": "f8971701",
   "metadata": {},
   "outputs": [
    {
     "name": "stdout",
     "output_type": "stream",
     "text": [
      "1\n"
     ]
    }
   ],
   "source": [
    "print(a) #global a 를 선언하여 전역변수 값을 바꿔줬음 "
   ]
  },
  {
   "cell_type": "markdown",
   "id": "62c2aa0b",
   "metadata": {},
   "source": [
    "## 인자값에 리스트 사용(언패킹)"
   ]
  },
  {
   "cell_type": "code",
   "execution_count": 43,
   "id": "e0ec926a",
   "metadata": {},
   "outputs": [],
   "source": [
    "def func(a,b,c):\n",
    "    print(a,b,c)"
   ]
  },
  {
   "cell_type": "code",
   "execution_count": 44,
   "id": "ddc5c7b8",
   "metadata": {},
   "outputs": [
    {
     "name": "stdout",
     "output_type": "stream",
     "text": [
      "1 2 3\n"
     ]
    }
   ],
   "source": [
    "x= [1,2,3]\n",
    "func(*x) #→언패킹 "
   ]
  },
  {
   "cell_type": "markdown",
   "id": "dc1f5368",
   "metadata": {},
   "source": [
    "## 가변인수"
   ]
  },
  {
   "cell_type": "code",
   "execution_count": 45,
   "id": "b533e924",
   "metadata": {},
   "outputs": [],
   "source": [
    "def func(*args):\n",
    "    print(args)"
   ]
  },
  {
   "cell_type": "code",
   "execution_count": 46,
   "id": "01981e9d",
   "metadata": {},
   "outputs": [
    {
     "name": "stdout",
     "output_type": "stream",
     "text": [
      "(1, 2, 3, 4, 4, 6, 6, 7, 8, 5)\n"
     ]
    }
   ],
   "source": [
    "func(1,2,3,4,4,6,6,7,8,5)"
   ]
  },
  {
   "cell_type": "code",
   "execution_count": 48,
   "id": "ae816e4f",
   "metadata": {},
   "outputs": [
    {
     "name": "stdout",
     "output_type": "stream",
     "text": [
      "(1, 2, 3)\n"
     ]
    }
   ],
   "source": [
    "func(1,2,3)"
   ]
  },
  {
   "cell_type": "code",
   "execution_count": 49,
   "id": "e7a6913b",
   "metadata": {},
   "outputs": [],
   "source": [
    "def func(*args):\n",
    "    for arg in args :\n",
    "        print(arg)"
   ]
  },
  {
   "cell_type": "code",
   "execution_count": 50,
   "id": "02caeb25",
   "metadata": {},
   "outputs": [
    {
     "name": "stdout",
     "output_type": "stream",
     "text": [
      "1\n",
      "2\n",
      "3\n",
      "4\n",
      "5\n",
      "6\n",
      "7\n",
      "8\n",
      "8\n",
      "8\n"
     ]
    }
   ],
   "source": [
    "func(1,2,3,4,5,6,7,8,8,8)"
   ]
  },
  {
   "cell_type": "code",
   "execution_count": 51,
   "id": "81329dbd",
   "metadata": {},
   "outputs": [
    {
     "name": "stdout",
     "output_type": "stream",
     "text": [
      "1\n",
      "2\n",
      "3\n"
     ]
    }
   ],
   "source": [
    "func(1,2,3)"
   ]
  },
  {
   "cell_type": "markdown",
   "id": "30d18da5",
   "metadata": {},
   "source": [
    "## 가변인수와 고정인수 같이 사용"
   ]
  },
  {
   "cell_type": "code",
   "execution_count": null,
   "id": "cf2e1646",
   "metadata": {},
   "outputs": [],
   "source": [
    "def func(a,*args):\n",
    "    print(a)\n",
    "    for arg in args :\n",
    "        print(arg)"
   ]
  },
  {
   "cell_type": "code",
   "execution_count": 53,
   "id": "9c0ea41a",
   "metadata": {},
   "outputs": [
    {
     "name": "stdout",
     "output_type": "stream",
     "text": [
      "1\n",
      "2\n",
      "3\n",
      "4\n",
      "5\n",
      "6\n",
      "7\n",
      "7\n"
     ]
    }
   ],
   "source": [
    "func(1,2,3,4,5,6,7,7)"
   ]
  },
  {
   "cell_type": "markdown",
   "id": "80fe40b6",
   "metadata": {},
   "source": [
    "## 키워드 인수 & 딕셔너리 언패킹"
   ]
  },
  {
   "cell_type": "code",
   "execution_count": 57,
   "id": "7b88877e",
   "metadata": {},
   "outputs": [],
   "source": [
    "def func(email,name):\n",
    "    print(\"이메일\", email)\n",
    "    print(\"이름\", name)"
   ]
  },
  {
   "cell_type": "code",
   "execution_count": 55,
   "id": "d7951fb3",
   "metadata": {},
   "outputs": [
    {
     "name": "stdout",
     "output_type": "stream",
     "text": [
      "이메일 aa@aa.com\n",
      "이름 zoom\n"
     ]
    }
   ],
   "source": [
    "func(name = \"zoom\", email = 'aa@aa.com' )"
   ]
  },
  {
   "cell_type": "code",
   "execution_count": 59,
   "id": "270f4397",
   "metadata": {},
   "outputs": [
    {
     "name": "stdout",
     "output_type": "stream",
     "text": [
      "이메일 aa@aa.com\n",
      "이름 zoom\n"
     ]
    }
   ],
   "source": [
    "student = {\"name\":\"zoom\", \"email\": \"aa@aa.com\"}\n",
    "func(**student)"
   ]
  },
  {
   "cell_type": "markdown",
   "id": "ddf5b8e5",
   "metadata": {},
   "source": [
    "## 가변 키워드 인수 "
   ]
  },
  {
   "cell_type": "code",
   "execution_count": 60,
   "id": "bc99ddba",
   "metadata": {},
   "outputs": [],
   "source": [
    "def func(**kwargs):\n",
    "    print(kwargs)"
   ]
  },
  {
   "cell_type": "code",
   "execution_count": 61,
   "id": "1e73c45e",
   "metadata": {},
   "outputs": [
    {
     "name": "stdout",
     "output_type": "stream",
     "text": [
      "{'email': 'aa@aa.com', 'name': '홍길동'}\n"
     ]
    }
   ],
   "source": [
    "func(email = \"aa@aa.com\", name = \"홍길동\")"
   ]
  },
  {
   "cell_type": "code",
   "execution_count": 62,
   "id": "aa25dbd3",
   "metadata": {},
   "outputs": [],
   "source": [
    "def func(**kwargs):\n",
    "    for kwarg in kwargs :\n",
    "        print(f\"{kwarg} : {kwargs[kwarg]}\") "
   ]
  },
  {
   "cell_type": "code",
   "execution_count": 63,
   "id": "5981da3e",
   "metadata": {},
   "outputs": [
    {
     "name": "stdout",
     "output_type": "stream",
     "text": [
      "email : aa@aa.com\n",
      "name : 홍길동\n"
     ]
    }
   ],
   "source": [
    "func(email = \"aa@aa.com\", name = \"홍길동\")"
   ]
  },
  {
   "cell_type": "code",
   "execution_count": 64,
   "id": "8d01260f",
   "metadata": {},
   "outputs": [
    {
     "name": "stdout",
     "output_type": "stream",
     "text": [
      "email : aa@aa.com\n",
      "name : 홍길동\n",
      "math : 70\n"
     ]
    }
   ],
   "source": [
    "func(email = \"aa@aa.com\", name = \"홍길동\", math = 70)"
   ]
  },
  {
   "cell_type": "markdown",
   "id": "3c5dd866",
   "metadata": {},
   "source": [
    "## 매개변수 초기값"
   ]
  },
  {
   "cell_type": "code",
   "execution_count": 65,
   "id": "9db45db4",
   "metadata": {},
   "outputs": [],
   "source": [
    "def func(email, name, age=20):\n",
    "    print(\"이메일\", email)\n",
    "    print(\"이름\", name)\n",
    "    print(\"나이\",age)"
   ]
  },
  {
   "cell_type": "code",
   "execution_count": 66,
   "id": "ad644ae4",
   "metadata": {},
   "outputs": [
    {
     "name": "stdout",
     "output_type": "stream",
     "text": [
      "이메일 aa@aa.com\n",
      "이름 zoom\n",
      "나이 20\n"
     ]
    }
   ],
   "source": [
    "func(\"aa@aa.com\",\"zoom\")"
   ]
  },
  {
   "cell_type": "code",
   "execution_count": 67,
   "id": "a8189886",
   "metadata": {},
   "outputs": [
    {
     "name": "stdout",
     "output_type": "stream",
     "text": [
      "이메일 aa@aa.com\n",
      "이름 zoom\n",
      "나이 30\n"
     ]
    }
   ],
   "source": [
    "func(\"aa@aa.com\",\"zoom\", 30)"
   ]
  },
  {
   "cell_type": "code",
   "execution_count": null,
   "id": "4225188c",
   "metadata": {},
   "outputs": [],
   "source": []
  }
 ],
 "metadata": {
  "kernelspec": {
   "display_name": "Python 3 (ipykernel)",
   "language": "python",
   "name": "python3"
  },
  "language_info": {
   "codemirror_mode": {
    "name": "ipython",
    "version": 3
   },
   "file_extension": ".py",
   "mimetype": "text/x-python",
   "name": "python",
   "nbconvert_exporter": "python",
   "pygments_lexer": "ipython3",
   "version": "3.9.13"
  }
 },
 "nbformat": 4,
 "nbformat_minor": 5
}
