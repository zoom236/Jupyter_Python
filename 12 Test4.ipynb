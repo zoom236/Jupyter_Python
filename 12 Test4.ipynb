{
 "cells": [
  {
   "cell_type": "markdown",
   "id": "11b2b40d",
   "metadata": {},
   "source": [
    "## Test1\n",
    "\n",
    "Car 클래스를 만드세요.\n",
    "\n",
    "- 객체 생성시 차이름, 배기량, 생산년도 입력받고 인스턴스 속성으로 만들어주세요.\n",
    "\n",
    "- 차이름, 배기량, 생산년도는 직접 변경하지 못합니다.\n",
    "\n",
    "- 차이름을 확인하는 함수와 변경하는 함수를 만드세요.\n",
    "\n",
    "- 배기량에 따라 1000cc보다 작으면 소형 / 1000cc 이상 2000cc 이하 중형 / 2000cc 보다 크면 대형을 출력하는 인스턴스 함수를 만드세요.\n",
    "\n",
    "- 객체 생성시마다 등록된 차량 갯수를 기록하는 클래스 속성을 만들어주세요."
   ]
  },
  {
   "cell_type": "code",
   "execution_count": 96,
   "id": "da223c09",
   "metadata": {},
   "outputs": [],
   "source": [
    "class Car :\n",
    "\n",
    "    total = 0\n",
    "\n",
    "    def __init__(self,name, cc, year):\n",
    "\n",
    "        self.__name =  name\n",
    "        self.__cc = cc\n",
    "        self.__year = year\n",
    "        Car.total += 1\n",
    "\n",
    "    \n",
    "    def Name(self):\n",
    "        return self.__name\n",
    "        \n",
    "    def Rename(self):\n",
    "        rename = input(\"차 이름을 입력해 주세요 : \")\n",
    "        self.__name = rename \n",
    "        return self.__name\n",
    "    \n",
    "    def CC(self):\n",
    "        if self.__cc < 1000 :\n",
    "            print(\"소형\")\n",
    "        elif 1000 <= self.__cc <= 2000 :\n",
    "            print(\"중형\")\n",
    "        elif self.__cc > 2000 :\n",
    "            print(\"대형\")\n",
    "    \n",
    "    def Total(self):\n",
    "        print(\"등록 차량 갯수 : %d\" % (self.total))\n",
    "            "
   ]
  },
  {
   "cell_type": "code",
   "execution_count": 97,
   "id": "13d0d5ab",
   "metadata": {},
   "outputs": [],
   "source": [
    "car1 = Car('제네시스',1000,2020)"
   ]
  },
  {
   "cell_type": "code",
   "execution_count": 98,
   "id": "7fad758d",
   "metadata": {},
   "outputs": [
    {
     "data": {
      "text/plain": [
       "'제네시스'"
      ]
     },
     "execution_count": 98,
     "metadata": {},
     "output_type": "execute_result"
    }
   ],
   "source": [
    "car1.Name()"
   ]
  },
  {
   "cell_type": "code",
   "execution_count": 99,
   "id": "1a52848b",
   "metadata": {},
   "outputs": [
    {
     "name": "stdout",
     "output_type": "stream",
     "text": [
      "차 이름을 입력해 주세요 : 그랜저\n"
     ]
    },
    {
     "data": {
      "text/plain": [
       "'그랜저'"
      ]
     },
     "execution_count": 99,
     "metadata": {},
     "output_type": "execute_result"
    }
   ],
   "source": [
    "car1.Rename()"
   ]
  },
  {
   "cell_type": "code",
   "execution_count": 100,
   "id": "0c583962",
   "metadata": {},
   "outputs": [
    {
     "data": {
      "text/plain": [
       "'그랜저'"
      ]
     },
     "execution_count": 100,
     "metadata": {},
     "output_type": "execute_result"
    }
   ],
   "source": [
    "car1.Name()"
   ]
  },
  {
   "cell_type": "code",
   "execution_count": 101,
   "id": "d6d9cae0",
   "metadata": {},
   "outputs": [
    {
     "name": "stdout",
     "output_type": "stream",
     "text": [
      "중형\n"
     ]
    }
   ],
   "source": [
    "car1.CC()"
   ]
  },
  {
   "cell_type": "code",
   "execution_count": 102,
   "id": "8d8530a8",
   "metadata": {},
   "outputs": [],
   "source": [
    "car2 = Car('제네시스',3000,2020)"
   ]
  },
  {
   "cell_type": "code",
   "execution_count": 103,
   "id": "647456ca",
   "metadata": {},
   "outputs": [
    {
     "name": "stdout",
     "output_type": "stream",
     "text": [
      "등록 차량 갯수 : 2\n"
     ]
    }
   ],
   "source": [
    "car1.Total()"
   ]
  },
  {
   "cell_type": "code",
   "execution_count": 104,
   "id": "64614452",
   "metadata": {},
   "outputs": [
    {
     "name": "stdout",
     "output_type": "stream",
     "text": [
      "대형\n"
     ]
    }
   ],
   "source": [
    "car2.CC()"
   ]
  },
  {
   "cell_type": "markdown",
   "id": "a6df452d",
   "metadata": {},
   "source": [
    "## Test2)\n",
    "\n",
    "1. Character 클래스를 만들어 주세요.\n",
    "- Character 클래스는 Health 속성을 추가해주세요 (생성시 200)\n",
    "- Character 클래스는 Move() 메서드를 추가하고 사용시 Health가 -10이 됩니다.\n",
    "- Character 클래스는 Rest() 메서드를 추가하고 사용시 Health가 +10이 됩니다.\n",
    "- 현재 Health를 알 수 있는 checkHealth() 메서드를 추가해주세요.\n",
    "\n",
    "2. Knight와 Healer 클래스를 만들어주세요.\n",
    "\n",
    "- Knight와 Healer 클래스는 Character 클래스를 상속합니다.\n",
    "- Knight 클래스는 Move() 사용시 Health가 -5가 더 소모\n",
    "- Knight 클래스는 Attack() 추가하고 실행시 공격합니다를 출력해주세요\n",
    "- Healer 클래스는 Mana 속성을 추가해주세요 (생성시 100)\n",
    "- Healer 클래스는 heal(character)메서드를 추가하고 메서드는 character 들을 매개변수로 받습니다.\n",
    "- Healer 클래스는 heal(character)메서드 실행시 Mana가 -10이 되고 전달받은 character 객체의 Rest() 메소드를 실행합니다.\n",
    "- Healer 클래스는 현재 마나 속성을 확인 할 수 있는 checkMana() 메서드를 추가해주세요"
   ]
  },
  {
   "cell_type": "code",
   "execution_count": 47,
   "id": "122d9b00",
   "metadata": {},
   "outputs": [],
   "source": [
    "class Character():\n",
    "    def __init__(self):\n",
    "        self.Health = 200\n",
    "    \n",
    "    def Move(self) :\n",
    "        self.Health -= 10\n",
    "    \n",
    "    def Rest(self):\n",
    "        self.Health += 10\n",
    "        \n",
    "    def checkHealth(self):\n",
    "        return self.Health\n",
    "    \n",
    "    \n",
    "    \n",
    "class Knight(Character) :\n",
    "    def __init__(self):\n",
    "        super().__init__()\n",
    "    def Move(self):\n",
    "        super().Move()\n",
    "        self.Health -=5\n",
    "    def Attack(self):\n",
    "        print(\"공격합니다.\")\n",
    "        \n",
    "        \n",
    "class Healer(Character):\n",
    "    def __init__(self):\n",
    "        super().__init__()\n",
    "        self.Mana = 100\n",
    "    \n",
    "    def heal(self,character) :\n",
    "        character.Rest()\n",
    "        self.Mana -= 10\n",
    "     \n",
    "    def checkMana(self):\n",
    "        return self.Mana\n",
    "        \n",
    "        "
   ]
  },
  {
   "cell_type": "code",
   "execution_count": 48,
   "id": "61ed450a",
   "metadata": {},
   "outputs": [],
   "source": [
    "knight =Knight()"
   ]
  },
  {
   "cell_type": "code",
   "execution_count": 49,
   "id": "1cd003f4",
   "metadata": {},
   "outputs": [],
   "source": [
    "healer = Healer()"
   ]
  },
  {
   "cell_type": "code",
   "execution_count": 50,
   "id": "8c57c43d",
   "metadata": {},
   "outputs": [
    {
     "data": {
      "text/plain": [
       "200"
      ]
     },
     "execution_count": 50,
     "metadata": {},
     "output_type": "execute_result"
    }
   ],
   "source": [
    "knight.checkHealth()"
   ]
  },
  {
   "cell_type": "code",
   "execution_count": 51,
   "id": "f2fcb0da",
   "metadata": {},
   "outputs": [],
   "source": [
    "knight.Move()"
   ]
  },
  {
   "cell_type": "code",
   "execution_count": 52,
   "id": "684c3965",
   "metadata": {},
   "outputs": [
    {
     "data": {
      "text/plain": [
       "185"
      ]
     },
     "execution_count": 52,
     "metadata": {},
     "output_type": "execute_result"
    }
   ],
   "source": [
    "knight.checkHealth()"
   ]
  },
  {
   "cell_type": "code",
   "execution_count": 53,
   "id": "b04d2e99",
   "metadata": {},
   "outputs": [
    {
     "name": "stdout",
     "output_type": "stream",
     "text": [
      "공격합니다.\n"
     ]
    }
   ],
   "source": [
    "knight.Attack()"
   ]
  },
  {
   "cell_type": "code",
   "execution_count": 54,
   "id": "221be97c",
   "metadata": {},
   "outputs": [],
   "source": [
    "healer.Move()"
   ]
  },
  {
   "cell_type": "code",
   "execution_count": 55,
   "id": "df363a75",
   "metadata": {},
   "outputs": [
    {
     "data": {
      "text/plain": [
       "190"
      ]
     },
     "execution_count": 55,
     "metadata": {},
     "output_type": "execute_result"
    }
   ],
   "source": [
    "healer.checkHealth()"
   ]
  },
  {
   "cell_type": "code",
   "execution_count": 56,
   "id": "1715b682",
   "metadata": {},
   "outputs": [],
   "source": [
    "healer.heal(healer)"
   ]
  },
  {
   "cell_type": "code",
   "execution_count": 57,
   "id": "01b7fb14",
   "metadata": {},
   "outputs": [
    {
     "data": {
      "text/plain": [
       "200"
      ]
     },
     "execution_count": 57,
     "metadata": {},
     "output_type": "execute_result"
    }
   ],
   "source": [
    "healer.checkHealth()"
   ]
  },
  {
   "cell_type": "code",
   "execution_count": 59,
   "id": "6e151a94",
   "metadata": {},
   "outputs": [
    {
     "data": {
      "text/plain": [
       "90"
      ]
     },
     "execution_count": 59,
     "metadata": {},
     "output_type": "execute_result"
    }
   ],
   "source": [
    "healer.checkMana()"
   ]
  },
  {
   "cell_type": "code",
   "execution_count": null,
   "id": "f96e0f30",
   "metadata": {},
   "outputs": [],
   "source": []
  }
 ],
 "metadata": {
  "kernelspec": {
   "display_name": "Python 3 (ipykernel)",
   "language": "python",
   "name": "python3"
  },
  "language_info": {
   "codemirror_mode": {
    "name": "ipython",
    "version": 3
   },
   "file_extension": ".py",
   "mimetype": "text/x-python",
   "name": "python",
   "nbconvert_exporter": "python",
   "pygments_lexer": "ipython3",
   "version": "3.9.13"
  }
 },
 "nbformat": 4,
 "nbformat_minor": 5
}
