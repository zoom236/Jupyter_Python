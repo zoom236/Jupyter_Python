{
 "cells": [
  {
   "cell_type": "markdown",
   "id": "30e0f947",
   "metadata": {},
   "source": [
    "## 객체 \n",
    "- 속성(변수)과 행동(함수)으로 구성된 대상 \n",
    "\n",
    "## 클래스 \n",
    "- 객체를 만들기 위한 도구(문법)\n",
    "\n",
    "class 클래스명 :\n",
    "     \n",
    "     # 생성자 함수\n",
    "     \n",
    "     def __init__(self, 변수1, 변수2) :\n",
    "         \n",
    "         self.변수1 = 값 #인스턴스 속성\n",
    "         \n",
    "         self.변수2 = 값 \n",
    "      \n",
    "     def 변수3(self) : # 인스턴스 매서드 \n",
    "         \n",
    "         self.변수 1 += 값 \n",
    "      \n",
    "     #객체생성 \n",
    "     zoom = 클래스명(\"변수1의값\",\"변수2의값\")"
   ]
  },
  {
   "cell_type": "code",
   "execution_count": 1,
   "id": "b0f9ff1a",
   "metadata": {},
   "outputs": [],
   "source": [
    "class Dog:\n",
    "    \n",
    "    def __init__(self, name, color):\n",
    "        self.hungry = 0\n",
    "        self.name = name\n",
    "        self.color = color\n",
    "    \n",
    "    def eat(self):\n",
    "        self.hungry -= 10\n",
    "        print(\"밥먹음\", self.hungry)\n",
    "    \n",
    "    def walk(self):\n",
    "        self.hungry += 10\n",
    "        print(\"산책\", self.hungry)"
   ]
  },
  {
   "cell_type": "code",
   "execution_count": 2,
   "id": "80480708",
   "metadata": {},
   "outputs": [],
   "source": [
    "choco = Dog(\"choco\", \"brown\")\n",
    "jjong = Dog(\"jjong\", \"white\")"
   ]
  },
  {
   "cell_type": "code",
   "execution_count": 3,
   "id": "6654ee03",
   "metadata": {},
   "outputs": [
    {
     "data": {
      "text/plain": [
       "0"
      ]
     },
     "execution_count": 3,
     "metadata": {},
     "output_type": "execute_result"
    }
   ],
   "source": [
    "choco.hungry"
   ]
  },
  {
   "cell_type": "code",
   "execution_count": 4,
   "id": "f3dc3568",
   "metadata": {},
   "outputs": [
    {
     "data": {
      "text/plain": [
       "0"
      ]
     },
     "execution_count": 4,
     "metadata": {},
     "output_type": "execute_result"
    }
   ],
   "source": [
    "jjong.hungry"
   ]
  },
  {
   "cell_type": "code",
   "execution_count": 5,
   "id": "223e2c83",
   "metadata": {},
   "outputs": [
    {
     "name": "stdout",
     "output_type": "stream",
     "text": [
      "밥먹음 -10\n"
     ]
    }
   ],
   "source": [
    "choco.eat()"
   ]
  },
  {
   "cell_type": "code",
   "execution_count": 6,
   "id": "8a0da79a",
   "metadata": {},
   "outputs": [
    {
     "data": {
      "text/plain": [
       "-10"
      ]
     },
     "execution_count": 6,
     "metadata": {},
     "output_type": "execute_result"
    }
   ],
   "source": [
    "choco.hungry"
   ]
  },
  {
   "cell_type": "code",
   "execution_count": 7,
   "id": "f7c24a65",
   "metadata": {},
   "outputs": [
    {
     "data": {
      "text/plain": [
       "0"
      ]
     },
     "execution_count": 7,
     "metadata": {},
     "output_type": "execute_result"
    }
   ],
   "source": [
    "jjong.hungry"
   ]
  },
  {
   "cell_type": "code",
   "execution_count": 8,
   "id": "82e9644b",
   "metadata": {},
   "outputs": [
    {
     "name": "stdout",
     "output_type": "stream",
     "text": [
      "산책 10\n"
     ]
    }
   ],
   "source": [
    "jjong.walk()"
   ]
  },
  {
   "cell_type": "code",
   "execution_count": 9,
   "id": "1686f765",
   "metadata": {},
   "outputs": [
    {
     "data": {
      "text/plain": [
       "10"
      ]
     },
     "execution_count": 9,
     "metadata": {},
     "output_type": "execute_result"
    }
   ],
   "source": [
    "jjong.hungry"
   ]
  },
  {
   "cell_type": "code",
   "execution_count": 10,
   "id": "9eeaddce",
   "metadata": {},
   "outputs": [
    {
     "data": {
      "text/plain": [
       "-10"
      ]
     },
     "execution_count": 10,
     "metadata": {},
     "output_type": "execute_result"
    }
   ],
   "source": [
    "choco.hungry"
   ]
  },
  {
   "cell_type": "code",
   "execution_count": 12,
   "id": "819c7dee",
   "metadata": {},
   "outputs": [],
   "source": [
    "jjong.hungry = 30"
   ]
  },
  {
   "cell_type": "code",
   "execution_count": 13,
   "id": "ab233fdd",
   "metadata": {},
   "outputs": [
    {
     "data": {
      "text/plain": [
       "30"
      ]
     },
     "execution_count": 13,
     "metadata": {},
     "output_type": "execute_result"
    }
   ],
   "source": [
    "jjong.hungry ## 비공개 속성이 아니므로 변경 가능"
   ]
  },
  {
   "cell_type": "markdown",
   "id": "ba26c737",
   "metadata": {},
   "source": [
    "## 비공개 속성(private attribute)\n",
    "- 외부에서 속성에 접근하지 못하게 차단 \n",
    "\n",
    "속성명 앞에 __ 추가 "
   ]
  },
  {
   "cell_type": "code",
   "execution_count": 46,
   "id": "b415803a",
   "metadata": {},
   "outputs": [],
   "source": [
    "class Dog:\n",
    "    \n",
    "    def __init__(self, name, color):\n",
    "        self.__hungry = 0 #비공개 속성\n",
    "        self.name = name\n",
    "        self.color = color\n",
    "    \n",
    "    def eat(self):\n",
    "        if self.__hungry <= 0 :\n",
    "            print(\"배가 너무 불러요\")\n",
    "        else :\n",
    "            self.__hungry -= 10\n",
    "            print(\"잘 먹었습니다.\", self.__hungry)\n",
    "    \n",
    "    def walk(self):\n",
    "        self.__hungry += 10\n",
    "        print(\"산책 갔다 왔어요\", self.__hungry)\n",
    "        \n",
    "    def condition(self):\n",
    "        print(\"%s 배고픔 : %d\" % (self.name, self.__hungry))"
   ]
  },
  {
   "cell_type": "code",
   "execution_count": 47,
   "id": "81795ff1",
   "metadata": {},
   "outputs": [],
   "source": [
    "choco = Dog(\"choco\", \"brown\")\n",
    "jjong = Dog(\"jjong\", \"white\")"
   ]
  },
  {
   "cell_type": "code",
   "execution_count": 48,
   "id": "85ae5d06",
   "metadata": {},
   "outputs": [],
   "source": [
    "jjong.__hungry = -10"
   ]
  },
  {
   "cell_type": "code",
   "execution_count": 49,
   "id": "fdfd672d",
   "metadata": {},
   "outputs": [
    {
     "data": {
      "text/plain": [
       "-10"
      ]
     },
     "execution_count": 49,
     "metadata": {},
     "output_type": "execute_result"
    }
   ],
   "source": [
    "jjong.__hungry ##파이썬의 버전에 따라 오류가 나오거나 실행은 되지만 값이 변경되진 않음"
   ]
  },
  {
   "cell_type": "code",
   "execution_count": 50,
   "id": "5911eb46",
   "metadata": {},
   "outputs": [
    {
     "name": "stdout",
     "output_type": "stream",
     "text": [
      "산책갔다왔어요 10\n"
     ]
    }
   ],
   "source": [
    "jjong.walk()"
   ]
  },
  {
   "cell_type": "code",
   "execution_count": 52,
   "id": "ac7544f5",
   "metadata": {},
   "outputs": [
    {
     "name": "stdout",
     "output_type": "stream",
     "text": [
      "잘 먹었습니다. 0\n"
     ]
    }
   ],
   "source": [
    "jjong.eat()"
   ]
  },
  {
   "cell_type": "code",
   "execution_count": 53,
   "id": "feaaff54",
   "metadata": {},
   "outputs": [
    {
     "name": "stdout",
     "output_type": "stream",
     "text": [
      "배가 너무 불러요\n"
     ]
    }
   ],
   "source": [
    "jjong.eat()"
   ]
  },
  {
   "cell_type": "code",
   "execution_count": 54,
   "id": "d766ca2c",
   "metadata": {},
   "outputs": [
    {
     "name": "stdout",
     "output_type": "stream",
     "text": [
      "jjong 배고픔 : 0\n"
     ]
    }
   ],
   "source": [
    "jjong.condition()"
   ]
  },
  {
   "cell_type": "markdown",
   "id": "04ee3018",
   "metadata": {},
   "source": [
    "## 클래스 속성(class attribute)\n",
    "- 모든 객체(인스턴스)가 공유하는 속성 \n",
    "\n",
    "객체없이 클래스 명으로 접근 가능 "
   ]
  },
  {
   "cell_type": "code",
   "execution_count": 62,
   "id": "adc367e5",
   "metadata": {},
   "outputs": [],
   "source": [
    "class Dog:\n",
    "    \n",
    "    dog_count = 0 #클래스 속성\n",
    "    \n",
    "    def __init__(self, name, color):\n",
    "        self.__hungry = 0 \n",
    "        self.name = name\n",
    "        self.color = color\n",
    "        Dog.dog_count +=1\n",
    "        \n",
    "    def dogCount(self):\n",
    "        print(\"총강아지 : %d\" % (self.dog_count))\n",
    "    \n",
    "    def eat(self):\n",
    "        if self.__hungry <= 0 :\n",
    "            print(\"배가 너무 불러요\")\n",
    "        else :\n",
    "            self.__hungry -= 10\n",
    "            print(\"잘 먹었습니다.\", self.__hungry)\n",
    "    \n",
    "    def walk(self):\n",
    "        self.__hungry += 10\n",
    "        print(\"산책 갔다 왔어요\", self.__hungry)\n",
    "        \n",
    "    def condition(self):\n",
    "        print(\"%s 배고픔 : %d\" % (self.name, self.__hungry))"
   ]
  },
  {
   "cell_type": "code",
   "execution_count": 63,
   "id": "3e786fff",
   "metadata": {},
   "outputs": [],
   "source": [
    "choco = Dog(\"choco\", \"brown\")\n",
    "jjong = Dog(\"jjong\", \"white\")"
   ]
  },
  {
   "cell_type": "code",
   "execution_count": 64,
   "id": "94d96be9",
   "metadata": {},
   "outputs": [
    {
     "data": {
      "text/plain": [
       "2"
      ]
     },
     "execution_count": 64,
     "metadata": {},
     "output_type": "execute_result"
    }
   ],
   "source": [
    "Dog.dog_count"
   ]
  },
  {
   "cell_type": "code",
   "execution_count": 65,
   "id": "8cb1ea5c",
   "metadata": {},
   "outputs": [
    {
     "name": "stdout",
     "output_type": "stream",
     "text": [
      "총강아지 : 2\n"
     ]
    }
   ],
   "source": [
    "choco.dogCount()"
   ]
  },
  {
   "cell_type": "code",
   "execution_count": 66,
   "id": "7e762f1e",
   "metadata": {},
   "outputs": [],
   "source": [
    "happy = Dog(\"happy\", \"black\")"
   ]
  },
  {
   "cell_type": "code",
   "execution_count": 67,
   "id": "d4f51ba9",
   "metadata": {},
   "outputs": [
    {
     "name": "stdout",
     "output_type": "stream",
     "text": [
      "총강아지 : 3\n"
     ]
    }
   ],
   "source": [
    "jjong.dogCount()"
   ]
  },
  {
   "cell_type": "markdown",
   "id": "e086300b",
   "metadata": {},
   "source": [
    "## 상속 \n",
    "- 공통되는 내용은 부모 클래스로 만들고 클래스(자식)를 만들 때 공통된 내용을 부모 클래스로부터 상속 \n",
    "\n",
    "class 부모클래스명 : \n",
    "    \n",
    "    코드\n",
    "\n",
    "class 자식클래스(부모클래스명):\n",
    "    \n",
    "    super().__init__() #부모의 생성자를 한번 실행해줘야 속성과 인스턴스, 매서드 전부 가져올 수 있음\n",
    "    \n",
    "    코드"
   ]
  },
  {
   "cell_type": "code",
   "execution_count": 69,
   "id": "7f8fe8f0",
   "metadata": {},
   "outputs": [],
   "source": [
    "class Animal :\n",
    "    \n",
    "    def __init__(self):\n",
    "        \n",
    "        self.__hungry = 0\n",
    "    \n",
    "    def eat(self) :\n",
    "        self.__hungry -= 10\n",
    "        print(\"밥을 먹었습니다.\",self.__hungry)\n",
    "        \n",
    "    def walk(self):\n",
    "        self.__hungry += 10\n",
    "        print(\"산책을 했습니다.\", self.__hungry)"
   ]
  },
  {
   "cell_type": "code",
   "execution_count": 74,
   "id": "20980dd6",
   "metadata": {},
   "outputs": [],
   "source": [
    "class Dog(Animal):\n",
    "    def __init__(self):\n",
    "        super().__init__()\n",
    "    def sound(self):\n",
    "        print(\"멍멍\")    "
   ]
  },
  {
   "cell_type": "code",
   "execution_count": 75,
   "id": "9c63c112",
   "metadata": {},
   "outputs": [],
   "source": [
    "class Cat(Animal):\n",
    "    def __init__(self):\n",
    "        super().__init__()\n",
    "    def sound(self):\n",
    "        print(\"야옹\")"
   ]
  },
  {
   "cell_type": "code",
   "execution_count": 76,
   "id": "cb929cb2",
   "metadata": {},
   "outputs": [],
   "source": [
    "dog = Dog()"
   ]
  },
  {
   "cell_type": "code",
   "execution_count": 77,
   "id": "3c1b38f7",
   "metadata": {},
   "outputs": [
    {
     "name": "stdout",
     "output_type": "stream",
     "text": [
      "멍멍\n"
     ]
    }
   ],
   "source": [
    "dog.sound()"
   ]
  },
  {
   "cell_type": "code",
   "execution_count": 78,
   "id": "ccb1da21",
   "metadata": {},
   "outputs": [
    {
     "name": "stdout",
     "output_type": "stream",
     "text": [
      "산책을 했습니다. 10\n"
     ]
    }
   ],
   "source": [
    "dog.walk()"
   ]
  },
  {
   "cell_type": "code",
   "execution_count": 79,
   "id": "798f1ccc",
   "metadata": {},
   "outputs": [
    {
     "name": "stdout",
     "output_type": "stream",
     "text": [
      "밥을 먹었습니다. 0\n"
     ]
    }
   ],
   "source": [
    "dog.eat()"
   ]
  },
  {
   "cell_type": "code",
   "execution_count": 84,
   "id": "86a6948d",
   "metadata": {},
   "outputs": [],
   "source": [
    "cat = Cat()"
   ]
  },
  {
   "cell_type": "code",
   "execution_count": 85,
   "id": "807d9f2c",
   "metadata": {},
   "outputs": [
    {
     "name": "stdout",
     "output_type": "stream",
     "text": [
      "야옹\n"
     ]
    }
   ],
   "source": [
    "cat.sound()"
   ]
  },
  {
   "cell_type": "code",
   "execution_count": 86,
   "id": "b8b619e0",
   "metadata": {},
   "outputs": [
    {
     "name": "stdout",
     "output_type": "stream",
     "text": [
      "산책을 했습니다. 10\n"
     ]
    }
   ],
   "source": [
    "cat.walk()"
   ]
  },
  {
   "cell_type": "code",
   "execution_count": 87,
   "id": "3f8289c3",
   "metadata": {},
   "outputs": [
    {
     "name": "stdout",
     "output_type": "stream",
     "text": [
      "밥을 먹었습니다. 0\n"
     ]
    }
   ],
   "source": [
    "cat.eat()"
   ]
  },
  {
   "cell_type": "markdown",
   "id": "83df551b",
   "metadata": {},
   "source": [
    "## 오버라이딩\n",
    "- 부모의 기능을 물려받고 일부 기능 수정"
   ]
  },
  {
   "cell_type": "code",
   "execution_count": 88,
   "id": "571f2706",
   "metadata": {},
   "outputs": [],
   "source": [
    "class Animal :\n",
    "    \n",
    "    def __init__(self):\n",
    "        \n",
    "        self.__hungry = 0\n",
    "    \n",
    "    def eat(self) :\n",
    "        self.__hungry -= 10\n",
    "        print(\"밥을 먹었습니다.\",self.__hungry)\n",
    "        \n",
    "    def walk(self):\n",
    "        self.__hungry += 10\n",
    "        print(\"산책을 했습니다.\", self.__hungry)"
   ]
  },
  {
   "cell_type": "code",
   "execution_count": 90,
   "id": "cc81788c",
   "metadata": {},
   "outputs": [],
   "source": [
    "class Dog(Animal):\n",
    "    def __init__(self):\n",
    "        super().__init__()\n",
    "    def sound(self):\n",
    "        print(\"멍멍\")\n",
    "    def eat(self):\n",
    "        super().eat()\n",
    "        print(\"왈왈\")"
   ]
  },
  {
   "cell_type": "code",
   "execution_count": null,
   "id": "b26909ab",
   "metadata": {},
   "outputs": [],
   "source": [
    "class Cat(Animal):\n",
    "    def __init__(self):\n",
    "        super().__init__()\n",
    "    def sound(self):\n",
    "        print(\"야옹\")"
   ]
  },
  {
   "cell_type": "code",
   "execution_count": 91,
   "id": "fc6fae4f",
   "metadata": {},
   "outputs": [],
   "source": [
    "dog = Dog()"
   ]
  },
  {
   "cell_type": "code",
   "execution_count": 92,
   "id": "cb37e54d",
   "metadata": {},
   "outputs": [
    {
     "name": "stdout",
     "output_type": "stream",
     "text": [
      "밥을 먹었습니다. -10\n",
      "왈왈\n"
     ]
    }
   ],
   "source": [
    "dog.eat()"
   ]
  },
  {
   "cell_type": "code",
   "execution_count": 93,
   "id": "28a94096",
   "metadata": {},
   "outputs": [
    {
     "name": "stdout",
     "output_type": "stream",
     "text": [
      "밥을 먹었습니다. -10\n"
     ]
    }
   ],
   "source": [
    "cat.eat()"
   ]
  }
 ],
 "metadata": {
  "kernelspec": {
   "display_name": "Python 3 (ipykernel)",
   "language": "python",
   "name": "python3"
  },
  "language_info": {
   "codemirror_mode": {
    "name": "ipython",
    "version": 3
   },
   "file_extension": ".py",
   "mimetype": "text/x-python",
   "name": "python",
   "nbconvert_exporter": "python",
   "pygments_lexer": "ipython3",
   "version": "3.9.13"
  }
 },
 "nbformat": 4,
 "nbformat_minor": 5
}
