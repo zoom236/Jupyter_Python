{
 "cells": [
  {
   "cell_type": "markdown",
   "id": "830cf026",
   "metadata": {},
   "source": [
    "## TEST1\n",
    "x = [3,6,9,20,-7,5]의 값의 모든 요소에 10을 곱하여 저장한 뒤 출력하세요."
   ]
  },
  {
   "cell_type": "code",
   "execution_count": 7,
   "id": "60ad2d97",
   "metadata": {},
   "outputs": [
    {
     "name": "stdout",
     "output_type": "stream",
     "text": [
      "[30, 60, 90, 200, -70, 50]\n"
     ]
    }
   ],
   "source": [
    "x=[3,6,9,20,-7,5]\n",
    "for i in range(len(x)):\n",
    "    x[i]=x[i]*10\n",
    "print(x)"
   ]
  },
  {
   "cell_type": "markdown",
   "id": "4a201d6f",
   "metadata": {},
   "source": [
    "## TEST2\n",
    "y = {\"math\":70, \"science\":80,\"english\":20}의 값의 모든 요소에 10을 더하여 저장한 뒤 출력하세요."
   ]
  },
  {
   "cell_type": "code",
   "execution_count": 17,
   "id": "66813da4",
   "metadata": {},
   "outputs": [],
   "source": [
    "y = {\"math\":70, \"science\":80,\"english\":20}"
   ]
  },
  {
   "cell_type": "code",
   "execution_count": 18,
   "id": "9b0ad6b1",
   "metadata": {},
   "outputs": [
    {
     "name": "stdout",
     "output_type": "stream",
     "text": [
      "{'math': 80, 'science': 90, 'english': 30}\n"
     ]
    }
   ],
   "source": [
    "for i in y :\n",
    "    y[i] =y[i]+10\n",
    "print(y[i])"
   ]
  },
  {
   "cell_type": "code",
   "execution_count": 17,
   "id": "238c16b7",
   "metadata": {},
   "outputs": [
    {
     "name": "stdout",
     "output_type": "stream",
     "text": [
      "80\n",
      "90\n",
      "30\n"
     ]
    }
   ],
   "source": [
    "for i in y :\n",
    "    y[i] += 10\n",
    "    print(y[i])\n"
   ]
  },
  {
   "cell_type": "markdown",
   "id": "d9c2f732",
   "metadata": {},
   "source": [
    "## TEST3\n",
    "x=[3,6,9,20,-7,5] 리스트를 sort와 같은 함수를 사용하지 말고 for문을 활용하여 오름차순으로 정렬해주세요."
   ]
  },
  {
   "cell_type": "code",
   "execution_count": 15,
   "id": "02a84068",
   "metadata": {},
   "outputs": [
    {
     "name": "stdout",
     "output_type": "stream",
     "text": [
      "[-7, 3, 5, 6, 9, 20]\n"
     ]
    }
   ],
   "source": [
    "x=[3,6,9,20,-7,5]\n",
    "for i in range(len(x)) :\n",
    "    for j in range(len(x)):\n",
    "        if x[i] < x[j] :\n",
    "            temp = x[i]\n",
    "            x[i]= x[j]\n",
    "            x[j]= temp\n",
    "print(x)\n",
    "        "
   ]
  },
  {
   "cell_type": "code",
   "execution_count": 25,
   "id": "58a92910",
   "metadata": {},
   "outputs": [
    {
     "name": "stdout",
     "output_type": "stream",
     "text": [
      "0 1\n",
      "0 2\n",
      "0 3\n",
      "0 4\n",
      "0 5\n",
      "1 2\n",
      "1 3\n",
      "1 4\n",
      "1 5\n",
      "2 3\n",
      "2 4\n",
      "2 5\n",
      "3 4\n",
      "3 5\n",
      "4 5\n"
     ]
    },
    {
     "data": {
      "text/plain": [
       "[-7, 3, 5, 6, 9, 20]"
      ]
     },
     "execution_count": 25,
     "metadata": {},
     "output_type": "execute_result"
    }
   ],
   "source": [
    "x=[3,6,9,20,-7,5]\n",
    "\n",
    "for i in range(len(x)):\n",
    "    for j in range(i +1, len(x)):\n",
    "        if x[i]> x[j] :\n",
    "            temp = x[j]\n",
    "            x[j] = x[i]\n",
    "            x[i] = temp\n",
    "        print(i,j)\n",
    "x\n",
    "            "
   ]
  },
  {
   "cell_type": "markdown",
   "id": "1dfdc736",
   "metadata": {},
   "source": [
    "## TEST 4\n",
    "1 - 100까지 숫자 중 3과 5의 공배수일 경우 \"3과 5의 공배수\"\n",
    "\n",
    "나머지 숫자 중 3의 배수일 경우 \"3의 배수\" 나머지 숫자 중 5의 배수일 경우 \"5의 배수\"\n",
    "\n",
    "모두 해당되지 않을 경우 그냥 숫자를 출력하세요"
   ]
  },
  {
   "cell_type": "code",
   "execution_count": 33,
   "id": "befce9e5",
   "metadata": {},
   "outputs": [
    {
     "name": "stdout",
     "output_type": "stream",
     "text": [
      "1\n",
      "2\n",
      "3의 배수\n",
      "4\n",
      "5의 배수\n",
      "3의 배수\n",
      "7\n",
      "8\n",
      "3의 배수\n",
      "5의 배수\n",
      "11\n",
      "3의 배수\n",
      "13\n",
      "14\n",
      "3과 5의 공배수\n",
      "16\n",
      "17\n",
      "3의 배수\n",
      "19\n",
      "5의 배수\n",
      "3의 배수\n",
      "22\n",
      "23\n",
      "3의 배수\n",
      "5의 배수\n",
      "26\n",
      "3의 배수\n",
      "28\n",
      "29\n",
      "3과 5의 공배수\n",
      "31\n",
      "32\n",
      "3의 배수\n",
      "34\n",
      "5의 배수\n",
      "3의 배수\n",
      "37\n",
      "38\n",
      "3의 배수\n",
      "5의 배수\n",
      "41\n",
      "3의 배수\n",
      "43\n",
      "44\n",
      "3과 5의 공배수\n",
      "46\n",
      "47\n",
      "3의 배수\n",
      "49\n",
      "5의 배수\n",
      "3의 배수\n",
      "52\n",
      "53\n",
      "3의 배수\n",
      "5의 배수\n",
      "56\n",
      "3의 배수\n",
      "58\n",
      "59\n",
      "3과 5의 공배수\n",
      "61\n",
      "62\n",
      "3의 배수\n",
      "64\n",
      "5의 배수\n",
      "3의 배수\n",
      "67\n",
      "68\n",
      "3의 배수\n",
      "5의 배수\n",
      "71\n",
      "3의 배수\n",
      "73\n",
      "74\n",
      "3과 5의 공배수\n",
      "76\n",
      "77\n",
      "3의 배수\n",
      "79\n",
      "5의 배수\n",
      "3의 배수\n",
      "82\n",
      "83\n",
      "3의 배수\n",
      "5의 배수\n",
      "86\n",
      "3의 배수\n",
      "88\n",
      "89\n",
      "3과 5의 공배수\n",
      "91\n",
      "92\n",
      "3의 배수\n",
      "94\n",
      "5의 배수\n",
      "3의 배수\n",
      "97\n",
      "98\n",
      "3의 배수\n",
      "5의 배수\n"
     ]
    }
   ],
   "source": [
    "for i in range(1,101) :\n",
    "    if i % 3 == 0 and i % 5 == 0 :\n",
    "        print(\"3과 5의 공배수\")\n",
    "    elif i % 3 == 0 :\n",
    "        print(\"3의 배수\")\n",
    "    elif i % 5 == 0 :\n",
    "        print(\"5의 배수\")\n",
    "    else :\n",
    "        print(i)"
   ]
  },
  {
   "cell_type": "code",
   "execution_count": null,
   "id": "f3e2936c",
   "metadata": {},
   "outputs": [],
   "source": []
  }
 ],
 "metadata": {
  "kernelspec": {
   "display_name": "Python 3 (ipykernel)",
   "language": "python",
   "name": "python3"
  },
  "language_info": {
   "codemirror_mode": {
    "name": "ipython",
    "version": 3
   },
   "file_extension": ".py",
   "mimetype": "text/x-python",
   "name": "python",
   "nbconvert_exporter": "python",
   "pygments_lexer": "ipython3",
   "version": "3.9.13"
  }
 },
 "nbformat": 4,
 "nbformat_minor": 5
}
