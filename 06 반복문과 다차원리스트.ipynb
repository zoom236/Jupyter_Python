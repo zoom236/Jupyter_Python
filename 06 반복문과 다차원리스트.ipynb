{
 "cells": [
  {
   "cell_type": "markdown",
   "id": "61a91c43",
   "metadata": {},
   "source": [
    "## 다차원 리스트\n",
    "idx    0       1      2\n",
    "\n",
    "a= [[10,20],[30,40],[50,60]]\n",
    "\n",
    "idx   0  1    0  1    0  1\n",
    "\n",
    "a[0][0] = 10\n",
    "\n",
    "- 2차원 리스트 값 추가 \n",
    "\n",
    "a[idx].append(값)"
   ]
  },
  {
   "cell_type": "code",
   "execution_count": 2,
   "id": "842a13b0",
   "metadata": {},
   "outputs": [],
   "source": [
    "a= [[10,20],[30,40],[50,60]]"
   ]
  },
  {
   "cell_type": "code",
   "execution_count": 3,
   "id": "19bb3aed",
   "metadata": {},
   "outputs": [
    {
     "data": {
      "text/plain": [
       "[[10, 20], [30, 40], [50, 60]]"
      ]
     },
     "execution_count": 3,
     "metadata": {},
     "output_type": "execute_result"
    }
   ],
   "source": [
    "a"
   ]
  },
  {
   "cell_type": "code",
   "execution_count": 4,
   "id": "dd31b04c",
   "metadata": {},
   "outputs": [
    {
     "data": {
      "text/plain": [
       "10"
      ]
     },
     "execution_count": 4,
     "metadata": {},
     "output_type": "execute_result"
    }
   ],
   "source": [
    "a[0][0]"
   ]
  },
  {
   "cell_type": "code",
   "execution_count": 5,
   "id": "232e47c2",
   "metadata": {},
   "outputs": [
    {
     "data": {
      "text/plain": [
       "40"
      ]
     },
     "execution_count": 5,
     "metadata": {},
     "output_type": "execute_result"
    }
   ],
   "source": [
    "a[1][1]"
   ]
  },
  {
   "cell_type": "code",
   "execution_count": 7,
   "id": "58bf6839",
   "metadata": {},
   "outputs": [
    {
     "data": {
      "text/plain": [
       "60"
      ]
     },
     "execution_count": 7,
     "metadata": {},
     "output_type": "execute_result"
    }
   ],
   "source": [
    "a[2][1]"
   ]
  },
  {
   "cell_type": "code",
   "execution_count": 9,
   "id": "34610b61",
   "metadata": {},
   "outputs": [],
   "source": [
    "a[0].append(0)"
   ]
  },
  {
   "cell_type": "code",
   "execution_count": 10,
   "id": "8f9ca2dd",
   "metadata": {},
   "outputs": [
    {
     "data": {
      "text/plain": [
       "[[10, 20, 0], [30, 40], [50, 60]]"
      ]
     },
     "execution_count": 10,
     "metadata": {},
     "output_type": "execute_result"
    }
   ],
   "source": [
    "a"
   ]
  },
  {
   "cell_type": "code",
   "execution_count": 11,
   "id": "3cda9d09",
   "metadata": {},
   "outputs": [],
   "source": [
    "a[1].extend([300,400])"
   ]
  },
  {
   "cell_type": "code",
   "execution_count": 12,
   "id": "808d0434",
   "metadata": {},
   "outputs": [
    {
     "data": {
      "text/plain": [
       "[[10, 20, 0], [30, 40, 300, 400], [50, 60]]"
      ]
     },
     "execution_count": 12,
     "metadata": {},
     "output_type": "execute_result"
    }
   ],
   "source": [
    "a"
   ]
  },
  {
   "cell_type": "code",
   "execution_count": 13,
   "id": "92d86675",
   "metadata": {},
   "outputs": [],
   "source": [
    "a[2].append([500,600])"
   ]
  },
  {
   "cell_type": "code",
   "execution_count": 14,
   "id": "5c936d97",
   "metadata": {},
   "outputs": [
    {
     "data": {
      "text/plain": [
       "[[10, 20, 0], [30, 40, 300, 400], [50, 60, [500, 600]]]"
      ]
     },
     "execution_count": 14,
     "metadata": {},
     "output_type": "execute_result"
    }
   ],
   "source": [
    "a"
   ]
  },
  {
   "cell_type": "markdown",
   "id": "aea4f21b",
   "metadata": {},
   "source": [
    "## 다차원 리스트 값 출력 \n",
    "- for 문 사용 \n",
    "\n",
    "- 이중 for문 사용"
   ]
  },
  {
   "cell_type": "code",
   "execution_count": 15,
   "id": "303d1f63",
   "metadata": {},
   "outputs": [],
   "source": [
    "a= [[10,20],[30,40],[50,60]]"
   ]
  },
  {
   "cell_type": "code",
   "execution_count": 16,
   "id": "9d1a3afe",
   "metadata": {},
   "outputs": [
    {
     "name": "stdout",
     "output_type": "stream",
     "text": [
      "10 20\n",
      "30 40\n",
      "50 60\n"
     ]
    }
   ],
   "source": [
    "for x,y in a :\n",
    "    print(x,y)"
   ]
  },
  {
   "cell_type": "code",
   "execution_count": 17,
   "id": "53375bc7",
   "metadata": {},
   "outputs": [
    {
     "name": "stdout",
     "output_type": "stream",
     "text": [
      "[10, 20]\n",
      "[30, 40]\n",
      "[50, 60]\n"
     ]
    }
   ],
   "source": [
    "for x in a :\n",
    "    print(x)"
   ]
  },
  {
   "cell_type": "code",
   "execution_count": 20,
   "id": "04842e62",
   "metadata": {},
   "outputs": [
    {
     "name": "stdout",
     "output_type": "stream",
     "text": [
      "10 20  \n",
      "30 40  \n",
      "50 60  \n"
     ]
    }
   ],
   "source": [
    "for i in a :\n",
    "    for j in i :\n",
    "        print(j,end= \" \")\n",
    "    print(' ')"
   ]
  },
  {
   "cell_type": "markdown",
   "id": "dd899b2c",
   "metadata": {},
   "source": [
    "## 다차원 리스트 값 접근 \n",
    "\n",
    "- range\n",
    "- enumerate"
   ]
  },
  {
   "cell_type": "code",
   "execution_count": 29,
   "id": "e8f3d9c7",
   "metadata": {},
   "outputs": [
    {
     "name": "stdout",
     "output_type": "stream",
     "text": [
      "[10, 20]\n",
      "10\n",
      "20\n",
      "[30, 40]\n",
      "30\n",
      "40\n",
      "[50, 60]\n",
      "50\n",
      "60\n"
     ]
    }
   ],
   "source": [
    "a= [[10,20],[30,40],[50,60]]\n",
    "for i in range(len(a)):\n",
    "    print(a[i]) # i = 0,1,2\n",
    "    for j in range(len(a[i])) :#j = 0,1\n",
    "        print(a[i][j]) # 0,0 / 0,1 /1,0 / 1,1 / 2,0 / 2,1 "
   ]
  },
  {
   "cell_type": "code",
   "execution_count": 31,
   "id": "f54a432d",
   "metadata": {},
   "outputs": [
    {
     "name": "stdout",
     "output_type": "stream",
     "text": [
      "0 [10, 20]\n",
      "1 [30, 40]\n",
      "2 [50, 60]\n"
     ]
    }
   ],
   "source": [
    "for idx, val in enumerate(a) :\n",
    "    print(idx, val)"
   ]
  },
  {
   "cell_type": "code",
   "execution_count": 37,
   "id": "8bebd3a1",
   "metadata": {},
   "outputs": [
    {
     "name": "stdout",
     "output_type": "stream",
     "text": [
      "10 20  \n",
      "30 40  \n",
      "50 60  \n"
     ]
    }
   ],
   "source": [
    "for idx, val in enumerate(a) :\n",
    "    for idx2, val2 in enumerate(val):\n",
    "        print(a[idx][idx2], end = \" \")\n",
    "    print(\" \")"
   ]
  },
  {
   "cell_type": "markdown",
   "id": "51034aa8",
   "metadata": {},
   "source": [
    "## 다차원 리스트 만들기 "
   ]
  },
  {
   "cell_type": "code",
   "execution_count": 39,
   "id": "bce0e359",
   "metadata": {},
   "outputs": [
    {
     "data": {
      "text/plain": [
       "[[], [], [], []]"
      ]
     },
     "execution_count": 39,
     "metadata": {},
     "output_type": "execute_result"
    }
   ],
   "source": [
    "a = []\n",
    "for i in range(4):\n",
    "    temp = []\n",
    "    \n",
    "    a.append(temp)\n",
    "a"
   ]
  },
  {
   "cell_type": "code",
   "execution_count": 40,
   "id": "5fe9b739",
   "metadata": {},
   "outputs": [],
   "source": [
    "a = []\n",
    "for i in range(4):\n",
    "    temp = []\n",
    "    for j in range(3): \n",
    "        temp.append(0)\n",
    "    a.append(temp)"
   ]
  },
  {
   "cell_type": "code",
   "execution_count": 41,
   "id": "35f123d4",
   "metadata": {},
   "outputs": [
    {
     "data": {
      "text/plain": [
       "[[0, 0, 0], [0, 0, 0], [0, 0, 0], [0, 0, 0]]"
      ]
     },
     "execution_count": 41,
     "metadata": {},
     "output_type": "execute_result"
    }
   ],
   "source": [
    "a"
   ]
  },
  {
   "cell_type": "code",
   "execution_count": 44,
   "id": "319a9d30",
   "metadata": {},
   "outputs": [
    {
     "data": {
      "text/plain": [
       "[[1, 2, 3], [3, 4, 5], [5, 6, 7]]"
      ]
     },
     "execution_count": 44,
     "metadata": {},
     "output_type": "execute_result"
    }
   ],
   "source": [
    "a = []\n",
    "for i in range(1,6,2):\n",
    "    temp = []\n",
    "    for j in range(3): \n",
    "        temp.append(i+j)\n",
    "    a.append(temp)\n",
    "a"
   ]
  },
  {
   "cell_type": "code",
   "execution_count": null,
   "id": "34550a31",
   "metadata": {},
   "outputs": [],
   "source": []
  }
 ],
 "metadata": {
  "kernelspec": {
   "display_name": "Python 3 (ipykernel)",
   "language": "python",
   "name": "python3"
  },
  "language_info": {
   "codemirror_mode": {
    "name": "ipython",
    "version": 3
   },
   "file_extension": ".py",
   "mimetype": "text/x-python",
   "name": "python",
   "nbconvert_exporter": "python",
   "pygments_lexer": "ipython3",
   "version": "3.9.13"
  }
 },
 "nbformat": 4,
 "nbformat_minor": 5
}
