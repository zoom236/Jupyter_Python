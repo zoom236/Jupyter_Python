{
 "cells": [
  {
   "cell_type": "markdown",
   "id": "aabd6cfb",
   "metadata": {},
   "source": [
    "## 조건문 if\n",
    "조건문은 특정 조건일 때 코드를 실행하는 문법\n",
    "\n",
    "if 조건식 : \n",
    "\n",
    "    코드\n",
    "\n",
    "조건식이 True이냐 False냐에 따라 실행 여부 결정\n",
    "\n",
    "## if문 조건 생략 \n",
    "\n",
    "if 조건식 :\n",
    "\n",
    "    pass"
   ]
  },
  {
   "cell_type": "code",
   "execution_count": 1,
   "id": "a5eedffa",
   "metadata": {},
   "outputs": [],
   "source": [
    "x= 10"
   ]
  },
  {
   "cell_type": "code",
   "execution_count": 2,
   "id": "83208297",
   "metadata": {},
   "outputs": [
    {
     "name": "stdout",
     "output_type": "stream",
     "text": [
      "x가 10 입니다.\n"
     ]
    }
   ],
   "source": [
    "if x==10 :\n",
    "    print(\"x가 10 입니다.\")"
   ]
  },
  {
   "cell_type": "code",
   "execution_count": 3,
   "id": "68e69375",
   "metadata": {},
   "outputs": [],
   "source": [
    "if x == 9 :\n",
    "    print(\"x가 9 입니다.\")"
   ]
  },
  {
   "cell_type": "code",
   "execution_count": 4,
   "id": "fe9f5a2f",
   "metadata": {},
   "outputs": [
    {
     "name": "stdout",
     "output_type": "stream",
     "text": [
      "if문 실행\n"
     ]
    }
   ],
   "source": [
    "if True : \n",
    "    print(\"if문 실행\")"
   ]
  },
  {
   "cell_type": "code",
   "execution_count": 5,
   "id": "5a76ff30",
   "metadata": {},
   "outputs": [
    {
     "name": "stdout",
     "output_type": "stream",
     "text": [
      "끝\n"
     ]
    }
   ],
   "source": [
    "if x ==10 :\n",
    "    pass\n",
    "print(\"끝\")"
   ]
  },
  {
   "cell_type": "code",
   "execution_count": 6,
   "id": "ccb2e3b6",
   "metadata": {},
   "outputs": [
    {
     "name": "stdout",
     "output_type": "stream",
     "text": [
      "x는 10입니다.\n",
      "x는 10입니다.\n",
      "코드끝\n"
     ]
    }
   ],
   "source": [
    "if x == 10 :\n",
    "    print(\"x는 10입니다.\")\n",
    "    print(\"x는 10입니다.\")\n",
    "print(\"코드끝\")"
   ]
  },
  {
   "cell_type": "code",
   "execution_count": 7,
   "id": "5fea62f1",
   "metadata": {},
   "outputs": [
    {
     "name": "stdout",
     "output_type": "stream",
     "text": [
      "코드끝\n"
     ]
    }
   ],
   "source": [
    "if x != 10 :\n",
    "    print(\"x는 10입니다.\")\n",
    "    print(\"x는 10입니다.\")\n",
    "print(\"코드끝\")"
   ]
  },
  {
   "cell_type": "markdown",
   "id": "5543acf9",
   "metadata": {},
   "source": [
    "## 다양한 조건\n",
    "x > y : x가 y보다 크다 \n",
    "\n",
    "x > y  and x < z : x가 y보다 크고 z보다 작다 - 둘다 True여야 실행\n",
    "\n",
    "y<x<z : x는 y보다 크고 z보다 작다 "
   ]
  },
  {
   "cell_type": "code",
   "execution_count": 10,
   "id": "c1c076a0",
   "metadata": {},
   "outputs": [],
   "source": [
    "x = 10 "
   ]
  },
  {
   "cell_type": "code",
   "execution_count": 12,
   "id": "2009e0a6",
   "metadata": {},
   "outputs": [],
   "source": [
    "if x<3 : \n",
    "    print(\"x는 3보다 작습니다\")"
   ]
  },
  {
   "cell_type": "code",
   "execution_count": 11,
   "id": "e9a00950",
   "metadata": {},
   "outputs": [
    {
     "name": "stdout",
     "output_type": "stream",
     "text": [
      "x는 3보다 큽니다\n"
     ]
    }
   ],
   "source": [
    "if x>3 : \n",
    "    print(\"x는 3보다 큽니다\")"
   ]
  },
  {
   "cell_type": "code",
   "execution_count": 13,
   "id": "9b36fe2a",
   "metadata": {},
   "outputs": [
    {
     "name": "stdout",
     "output_type": "stream",
     "text": [
      "x는 3보다 크고 11보다 작습니다\n"
     ]
    }
   ],
   "source": [
    "if x>3 and x<11 :\n",
    "    print('x는 3보다 크고 11보다 작습니다')"
   ]
  },
  {
   "cell_type": "code",
   "execution_count": 14,
   "id": "b66b4d16",
   "metadata": {},
   "outputs": [],
   "source": [
    "if x>3 and x<10 :\n",
    "    print('x는 3보다 크고 10보다 작습니다')"
   ]
  },
  {
   "cell_type": "code",
   "execution_count": 16,
   "id": "78eef79e",
   "metadata": {},
   "outputs": [
    {
     "name": "stdout",
     "output_type": "stream",
     "text": [
      "x는 3보다 큰 수 이거나 10보다 작은 수 입니다\n"
     ]
    }
   ],
   "source": [
    "if x>3 or x< 10 :\n",
    "    print('x는 3보다 큰 수 이거나 10보다 작은 수 입니다')"
   ]
  },
  {
   "cell_type": "code",
   "execution_count": 17,
   "id": "2d59af46",
   "metadata": {},
   "outputs": [
    {
     "name": "stdout",
     "output_type": "stream",
     "text": [
      "True\n"
     ]
    }
   ],
   "source": [
    "if 0<x<20 :\n",
    "    print('True')"
   ]
  },
  {
   "cell_type": "code",
   "execution_count": 20,
   "id": "dd2d9795",
   "metadata": {},
   "outputs": [
    {
     "name": "stdout",
     "output_type": "stream",
     "text": [
      "실행1\n",
      "실행2\n"
     ]
    }
   ],
   "source": [
    "if x >= 10 :\n",
    "    \n",
    "    if x <= 20 :\n",
    "        print('실행1')\n",
    "    if x <= 30 :\n",
    "        print('실행2')"
   ]
  },
  {
   "cell_type": "markdown",
   "id": "561ca532",
   "metadata": {},
   "source": [
    "## IF 문의 분기를 위한 문법\n",
    "\n",
    "if 조건식 : \n",
    "\n",
    "    코드\n",
    "\n",
    "elif 조건식 :\n",
    "\n",
    "    코드\n",
    "\n",
    "elif 조건식 : \n",
    "\n",
    "    코드\n",
    "\n",
    "else :\n",
    "\n",
    "    코드"
   ]
  },
  {
   "cell_type": "code",
   "execution_count": 22,
   "id": "8bb0bea5",
   "metadata": {},
   "outputs": [],
   "source": [
    "x = 'a'"
   ]
  },
  {
   "cell_type": "code",
   "execution_count": 23,
   "id": "1a9e18fb",
   "metadata": {},
   "outputs": [
    {
     "name": "stdout",
     "output_type": "stream",
     "text": [
      "x = a\n"
     ]
    }
   ],
   "source": [
    "if x == 'a':\n",
    "    print('x = a')\n",
    "elif x == 'b':\n",
    "    print('x = b')\n",
    "elif x =='c' :\n",
    "    print('x = c')\n",
    "else :\n",
    "    print('x는 a,b,c 모두 아니다')"
   ]
  },
  {
   "cell_type": "code",
   "execution_count": 25,
   "id": "9a58dd99",
   "metadata": {},
   "outputs": [
    {
     "name": "stdout",
     "output_type": "stream",
     "text": [
      "x = b\n"
     ]
    }
   ],
   "source": [
    "x= 'b'\n",
    "\n",
    "if x == 'a':\n",
    "    print('x = a')\n",
    "elif x == 'b':\n",
    "    print('x = b')\n",
    "elif x =='c' :\n",
    "    print('x = c')\n",
    "else :\n",
    "    print('x는 a,b,c 모두 아니다')"
   ]
  },
  {
   "cell_type": "code",
   "execution_count": 26,
   "id": "78b15ffc",
   "metadata": {},
   "outputs": [
    {
     "name": "stdout",
     "output_type": "stream",
     "text": [
      "x = b\n"
     ]
    }
   ],
   "source": [
    "x= 'b'\n",
    "\n",
    "if x == 'a':\n",
    "    print('x = a')\n",
    "elif x == 'b':\n",
    "    print('x = b')\n",
    "elif x =='c' or x == 'b' :\n",
    "    print('x = c')\n",
    "else :\n",
    "    print('x는 a,b,c 모두 아니다')"
   ]
  },
  {
   "cell_type": "code",
   "execution_count": null,
   "id": "25097f60",
   "metadata": {},
   "outputs": [],
   "source": []
  }
 ],
 "metadata": {
  "kernelspec": {
   "display_name": "Python 3 (ipykernel)",
   "language": "python",
   "name": "python3"
  },
  "language_info": {
   "codemirror_mode": {
    "name": "ipython",
    "version": 3
   },
   "file_extension": ".py",
   "mimetype": "text/x-python",
   "name": "python",
   "nbconvert_exporter": "python",
   "pygments_lexer": "ipython3",
   "version": "3.9.13"
  }
 },
 "nbformat": 4,
 "nbformat_minor": 5
}
