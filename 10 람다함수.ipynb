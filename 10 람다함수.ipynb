{
 "cells": [
  {
   "cell_type": "markdown",
   "id": "c5e010c0",
   "metadata": {},
   "source": [
    "## 람다 표현식 \n",
    "\n",
    "람다 표현식은 익명함수를 만드는 방법\n",
    "\n",
    "함수를 간단하게 작성할 수 있어 다른 함수의 인수로 넣을때 주로 사용\n",
    "\n",
    "lambda 매개변수들 : 식"
   ]
  },
  {
   "cell_type": "code",
   "execution_count": 1,
   "id": "51628f72",
   "metadata": {},
   "outputs": [],
   "source": [
    "def plus_ten(x):\n",
    "    return x+10"
   ]
  },
  {
   "cell_type": "code",
   "execution_count": 2,
   "id": "2237ba92",
   "metadata": {},
   "outputs": [
    {
     "data": {
      "text/plain": [
       "30"
      ]
     },
     "execution_count": 2,
     "metadata": {},
     "output_type": "execute_result"
    }
   ],
   "source": [
    "plus_ten(20)"
   ]
  },
  {
   "cell_type": "code",
   "execution_count": 3,
   "id": "0074f800",
   "metadata": {},
   "outputs": [
    {
     "data": {
      "text/plain": [
       "<function __main__.<lambda>(x)>"
      ]
     },
     "execution_count": 3,
     "metadata": {},
     "output_type": "execute_result"
    }
   ],
   "source": [
    "lambda x : x+10"
   ]
  },
  {
   "cell_type": "code",
   "execution_count": 4,
   "id": "99ae0b6b",
   "metadata": {},
   "outputs": [],
   "source": [
    "plus_ten = lambda x : x +10"
   ]
  },
  {
   "cell_type": "code",
   "execution_count": 7,
   "id": "ae00d03a",
   "metadata": {},
   "outputs": [
    {
     "name": "stdout",
     "output_type": "stream",
     "text": [
      "30\n"
     ]
    }
   ],
   "source": [
    "print(plus_ten(20))"
   ]
  },
  {
   "cell_type": "markdown",
   "id": "b65a4338",
   "metadata": {},
   "source": [
    "## 람다 표현식 바로 호출하기"
   ]
  },
  {
   "cell_type": "code",
   "execution_count": 10,
   "id": "32fb2fa0",
   "metadata": {},
   "outputs": [
    {
     "data": {
      "text/plain": [
       "20"
      ]
     },
     "execution_count": 10,
     "metadata": {},
     "output_type": "execute_result"
    }
   ],
   "source": [
    "(lambda x : x+10)(10)"
   ]
  },
  {
   "cell_type": "markdown",
   "id": "2b457204",
   "metadata": {},
   "source": [
    "## 람다 표현식 내에 변수는 사용할 수 없지만 바깥에 있는 변수는 사용가능 "
   ]
  },
  {
   "cell_type": "code",
   "execution_count": 12,
   "id": "edbbc851",
   "metadata": {},
   "outputs": [
    {
     "data": {
      "text/plain": [
       "30"
      ]
     },
     "execution_count": 12,
     "metadata": {},
     "output_type": "execute_result"
    }
   ],
   "source": [
    "y = 20\n",
    "(lambda x : x + y)(10)\n"
   ]
  },
  {
   "cell_type": "markdown",
   "id": "b8893bf5",
   "metadata": {},
   "source": [
    "## map(함수, 리스트) \n",
    "- 반복되는 자료형의 값들을 함수를 이용해 값을 가공\n",
    "\n",
    "## 람다 표현식에서의 if 사용 \n",
    "### 값1 if조건 else조건 값2 \n",
    "\n",
    "True 일 경우 값 1 출력 \n",
    "\n",
    "Flase 일 경우 값 2 출력\n",
    "\n",
    "elif는 사용 불가능 하지만 여러 if를 넣고 싶을 경우 \n",
    "\n",
    "lambda 매개변수들 : 결과 1 if조건식1 else 결과2 if조건식2 else 결과3 "
   ]
  },
  {
   "cell_type": "code",
   "execution_count": 21,
   "id": "a4728bbc",
   "metadata": {},
   "outputs": [],
   "source": [
    "a= [1,2,3,4,5,6,7,8,9,10]"
   ]
  },
  {
   "cell_type": "code",
   "execution_count": 22,
   "id": "7be3240c",
   "metadata": {},
   "outputs": [],
   "source": [
    "def f(x):\n",
    "    if x % 2 == 0:\n",
    "        return 0\n",
    "    else : \n",
    "        return x"
   ]
  },
  {
   "cell_type": "code",
   "execution_count": 23,
   "id": "9c72fc6b",
   "metadata": {},
   "outputs": [
    {
     "data": {
      "text/plain": [
       "[1, 0, 3, 0, 5, 0, 7, 0, 9, 0]"
      ]
     },
     "execution_count": 23,
     "metadata": {},
     "output_type": "execute_result"
    }
   ],
   "source": [
    "list(map(f,a))"
   ]
  },
  {
   "cell_type": "code",
   "execution_count": 26,
   "id": "b974a282",
   "metadata": {},
   "outputs": [
    {
     "data": {
      "text/plain": [
       "[1, 0, 3, 0, 5, 0, 7, 0, 9, 0]"
      ]
     },
     "execution_count": 26,
     "metadata": {},
     "output_type": "execute_result"
    }
   ],
   "source": [
    "list(map(lambda x : 0 if x % 2 == 0 else x,a))"
   ]
  },
  {
   "cell_type": "code",
   "execution_count": 37,
   "id": "b1306b79",
   "metadata": {},
   "outputs": [
    {
     "data": {
      "text/plain": [
       "[1, 2, '3의배수', 4, '5의배수', '3의배수', 7, 8, '3의배수', '5의배수']"
      ]
     },
     "execution_count": 37,
     "metadata": {},
     "output_type": "execute_result"
    }
   ],
   "source": [
    "list(map(lambda x : \"3의배수\" if x % 3 == 0 else \"5의배수\" if x % 5 == 0 else x,a))"
   ]
  },
  {
   "cell_type": "markdown",
   "id": "aaaf4e86",
   "metadata": {},
   "source": [
    "## filter(함수, 리스트)\n",
    "- 반복되는 자료형의 값들을 함수를 이용 참인 것만 걸러낸다."
   ]
  },
  {
   "cell_type": "code",
   "execution_count": 39,
   "id": "5cb0eccd",
   "metadata": {},
   "outputs": [
    {
     "data": {
      "text/plain": [
       "[4, 6, 7, 4, 6, 4, 6]"
      ]
     },
     "execution_count": 39,
     "metadata": {},
     "output_type": "execute_result"
    }
   ],
   "source": [
    "a = [2,4,6,7,1,3,4,6,2,3,4,6,1]\n",
    "list(filter(lambda x : 3<x<8, a))"
   ]
  },
  {
   "cell_type": "code",
   "execution_count": 40,
   "id": "6d1c3a86",
   "metadata": {},
   "outputs": [
    {
     "data": {
      "text/plain": [
       "[4, 6, 7, 4, 6, 4, 6]"
      ]
     },
     "execution_count": 40,
     "metadata": {},
     "output_type": "execute_result"
    }
   ],
   "source": [
    "def f(x):\n",
    "    return 3<x<8\n",
    "list(filter(f,a))"
   ]
  },
  {
   "cell_type": "code",
   "execution_count": null,
   "id": "e8e7c9fc",
   "metadata": {},
   "outputs": [],
   "source": []
  }
 ],
 "metadata": {
  "kernelspec": {
   "display_name": "Python 3 (ipykernel)",
   "language": "python",
   "name": "python3"
  },
  "language_info": {
   "codemirror_mode": {
    "name": "ipython",
    "version": 3
   },
   "file_extension": ".py",
   "mimetype": "text/x-python",
   "name": "python",
   "nbconvert_exporter": "python",
   "pygments_lexer": "ipython3",
   "version": "3.9.13"
  }
 },
 "nbformat": 4,
 "nbformat_minor": 5
}
