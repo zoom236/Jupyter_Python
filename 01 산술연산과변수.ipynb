{
 "cells": [
  {
   "cell_type": "markdown",
   "id": "bf4b8903",
   "metadata": {},
   "source": [
    "## 산술연산\n",
    "(+) - 더하기\n",
    "\n",
    "(-) - 빼기\n",
    "\n",
    "(*) - 곱하기\n",
    "\n",
    "(/) - 나누기\n",
    "\n",
    "(//) - 몫\n",
    "\n",
    "(%) - 나머지\n",
    "\n",
    "(**) 제곱"
   ]
  },
  {
   "cell_type": "code",
   "execution_count": 2,
   "id": "95fdb255",
   "metadata": {},
   "outputs": [
    {
     "data": {
      "text/plain": [
       "3"
      ]
     },
     "execution_count": 2,
     "metadata": {},
     "output_type": "execute_result"
    }
   ],
   "source": [
    "1+2"
   ]
  },
  {
   "cell_type": "code",
   "execution_count": 3,
   "id": "7cb16461",
   "metadata": {},
   "outputs": [
    {
     "data": {
      "text/plain": [
       "-1"
      ]
     },
     "execution_count": 3,
     "metadata": {},
     "output_type": "execute_result"
    }
   ],
   "source": [
    "1-2"
   ]
  },
  {
   "cell_type": "code",
   "execution_count": 4,
   "id": "c7171ded",
   "metadata": {},
   "outputs": [
    {
     "data": {
      "text/plain": [
       "10"
      ]
     },
     "execution_count": 4,
     "metadata": {},
     "output_type": "execute_result"
    }
   ],
   "source": [
    "5*2"
   ]
  },
  {
   "cell_type": "code",
   "execution_count": 5,
   "id": "9cf9a4e5",
   "metadata": {},
   "outputs": [
    {
     "data": {
      "text/plain": [
       "2.5"
      ]
     },
     "execution_count": 5,
     "metadata": {},
     "output_type": "execute_result"
    }
   ],
   "source": [
    "5/2"
   ]
  },
  {
   "cell_type": "code",
   "execution_count": 6,
   "id": "78f0e5b9",
   "metadata": {},
   "outputs": [
    {
     "data": {
      "text/plain": [
       "2"
      ]
     },
     "execution_count": 6,
     "metadata": {},
     "output_type": "execute_result"
    }
   ],
   "source": [
    "5//2"
   ]
  },
  {
   "cell_type": "code",
   "execution_count": 7,
   "id": "72307b4b",
   "metadata": {},
   "outputs": [
    {
     "data": {
      "text/plain": [
       "1"
      ]
     },
     "execution_count": 7,
     "metadata": {},
     "output_type": "execute_result"
    }
   ],
   "source": [
    "5%2"
   ]
  },
  {
   "cell_type": "code",
   "execution_count": 8,
   "id": "fcc796f5",
   "metadata": {},
   "outputs": [
    {
     "data": {
      "text/plain": [
       "8"
      ]
     },
     "execution_count": 8,
     "metadata": {},
     "output_type": "execute_result"
    }
   ],
   "source": [
    "2**3"
   ]
  },
  {
   "cell_type": "code",
   "execution_count": 9,
   "id": "97b31dc5",
   "metadata": {},
   "outputs": [
    {
     "data": {
      "text/plain": [
       "10"
      ]
     },
     "execution_count": 9,
     "metadata": {},
     "output_type": "execute_result"
    }
   ],
   "source": [
    "(2+3)*2"
   ]
  },
  {
   "cell_type": "markdown",
   "id": "1fffddc4",
   "metadata": {},
   "source": [
    "## 숫자 자료형 \n",
    "type(값) - 자료의 형태를 확인하는 함수 \n",
    "\n",
    "int - 정수\n",
    "\n",
    "float - 실수"
   ]
  },
  {
   "cell_type": "code",
   "execution_count": 12,
   "id": "7a788369",
   "metadata": {},
   "outputs": [
    {
     "data": {
      "text/plain": [
       "int"
      ]
     },
     "execution_count": 12,
     "metadata": {},
     "output_type": "execute_result"
    }
   ],
   "source": [
    "type(10)"
   ]
  },
  {
   "cell_type": "code",
   "execution_count": 13,
   "id": "12f7dc31",
   "metadata": {},
   "outputs": [
    {
     "data": {
      "text/plain": [
       "float"
      ]
     },
     "execution_count": 13,
     "metadata": {},
     "output_type": "execute_result"
    }
   ],
   "source": [
    "type(2.5)"
   ]
  },
  {
   "cell_type": "code",
   "execution_count": 14,
   "id": "dbb032f3",
   "metadata": {},
   "outputs": [
    {
     "data": {
      "text/plain": [
       "2.0"
      ]
     },
     "execution_count": 14,
     "metadata": {},
     "output_type": "execute_result"
    }
   ],
   "source": [
    "float(2)"
   ]
  },
  {
   "cell_type": "code",
   "execution_count": 15,
   "id": "524e5d1e",
   "metadata": {},
   "outputs": [
    {
     "data": {
      "text/plain": [
       "float"
      ]
     },
     "execution_count": 15,
     "metadata": {},
     "output_type": "execute_result"
    }
   ],
   "source": [
    "type(float(2))"
   ]
  },
  {
   "cell_type": "code",
   "execution_count": 16,
   "id": "0f7e3304",
   "metadata": {},
   "outputs": [
    {
     "data": {
      "text/plain": [
       "2"
      ]
     },
     "execution_count": 16,
     "metadata": {},
     "output_type": "execute_result"
    }
   ],
   "source": [
    "int(2.5)"
   ]
  },
  {
   "cell_type": "markdown",
   "id": "8a789cd3",
   "metadata": {},
   "source": [
    "## 변수\n",
    "하나의 데이터를 저장할 수 있는 메모리 공간, 변할 수 있는 수\n",
    "None - 비어있는 변수 , Type : None type  "
   ]
  },
  {
   "cell_type": "code",
   "execution_count": 18,
   "id": "c370d3cf",
   "metadata": {},
   "outputs": [],
   "source": [
    "a = 10"
   ]
  },
  {
   "cell_type": "code",
   "execution_count": 19,
   "id": "17c6115c",
   "metadata": {},
   "outputs": [
    {
     "name": "stdout",
     "output_type": "stream",
     "text": [
      "10\n"
     ]
    }
   ],
   "source": [
    "print(a)"
   ]
  },
  {
   "cell_type": "code",
   "execution_count": 20,
   "id": "7ddef68b",
   "metadata": {},
   "outputs": [],
   "source": [
    "b = None"
   ]
  },
  {
   "cell_type": "code",
   "execution_count": 21,
   "id": "eee5321e",
   "metadata": {},
   "outputs": [
    {
     "name": "stdout",
     "output_type": "stream",
     "text": [
      "None\n"
     ]
    }
   ],
   "source": [
    "print(b)"
   ]
  },
  {
   "cell_type": "code",
   "execution_count": 22,
   "id": "966c7c2a",
   "metadata": {},
   "outputs": [
    {
     "data": {
      "text/plain": [
       "NoneType"
      ]
     },
     "execution_count": 22,
     "metadata": {},
     "output_type": "execute_result"
    }
   ],
   "source": [
    "type(b)"
   ]
  },
  {
   "cell_type": "markdown",
   "id": "ddbd0d61",
   "metadata": {},
   "source": [
    "## 문자 자료형\n",
    "\n",
    "문자 그대로 사용하고 싶을 땐 \\\" 사용하기 \n",
    "str - \" \" / ' ' / \"\"\" \"\"\" "
   ]
  },
  {
   "cell_type": "code",
   "execution_count": 26,
   "id": "dd5bcb1b",
   "metadata": {},
   "outputs": [],
   "source": [
    "str = '문자'"
   ]
  },
  {
   "cell_type": "code",
   "execution_count": 25,
   "id": "a4cf9b8e",
   "metadata": {},
   "outputs": [
    {
     "name": "stdout",
     "output_type": "stream",
     "text": [
      "문자\n"
     ]
    }
   ],
   "source": [
    "print(first)"
   ]
  },
  {
   "cell_type": "code",
   "execution_count": 27,
   "id": "1b93f751",
   "metadata": {},
   "outputs": [],
   "source": [
    "str = \"\"\"줄을 바꾸고 싶을때는 \n",
    "\\\"\"\"를 사용하여 줄 바꾸기\"\"\""
   ]
  },
  {
   "cell_type": "code",
   "execution_count": 28,
   "id": "21348208",
   "metadata": {},
   "outputs": [
    {
     "name": "stdout",
     "output_type": "stream",
     "text": [
      "줄을 바꾸고 싶을때는 \n",
      "\"\"\"를 사용하여 줄 바꾸기\n"
     ]
    }
   ],
   "source": [
    "print(str)"
   ]
  },
  {
   "cell_type": "code",
   "execution_count": 22,
   "id": "b301811f",
   "metadata": {},
   "outputs": [],
   "source": [
    "a1 = \"과일 : \"\n",
    "a2 = \"사과\""
   ]
  },
  {
   "cell_type": "code",
   "execution_count": 23,
   "id": "b9bff6e6",
   "metadata": {},
   "outputs": [],
   "source": [
    "c= a2*3"
   ]
  },
  {
   "cell_type": "code",
   "execution_count": 24,
   "id": "1adec5bd",
   "metadata": {},
   "outputs": [
    {
     "name": "stdout",
     "output_type": "stream",
     "text": [
      "사과사과사과\n"
     ]
    }
   ],
   "source": [
    "print(c)"
   ]
  },
  {
   "cell_type": "code",
   "execution_count": 25,
   "id": "6aa36213",
   "metadata": {},
   "outputs": [],
   "source": [
    "c= a1+ a2"
   ]
  },
  {
   "cell_type": "code",
   "execution_count": 26,
   "id": "79edf60c",
   "metadata": {},
   "outputs": [
    {
     "name": "stdout",
     "output_type": "stream",
     "text": [
      "과일 : 사과\n"
     ]
    }
   ],
   "source": [
    "print(c)"
   ]
  },
  {
   "cell_type": "markdown",
   "id": "25ecce06",
   "metadata": {},
   "source": [
    "## 문자 관련 함수\n",
    "\n",
    "len(값) - 문자 길이\n",
    "\n",
    "upper(값) - 대문자로 바꾸기\n",
    "\n",
    "lower(값) - 소문자로 바꾸기\n",
    "\n",
    "replace(바꿀문자, 새문자) "
   ]
  },
  {
   "cell_type": "code",
   "execution_count": 27,
   "id": "7e708c6c",
   "metadata": {},
   "outputs": [
    {
     "data": {
      "text/plain": [
       "7"
      ]
     },
     "execution_count": 27,
     "metadata": {},
     "output_type": "execute_result"
    }
   ],
   "source": [
    "len(c)"
   ]
  },
  {
   "cell_type": "code",
   "execution_count": 28,
   "id": "db756db6",
   "metadata": {},
   "outputs": [],
   "source": [
    "c = c.replace(\"사과\",\"apple\")\n",
    "c = c.replace(\"과일\",\"fruit\")"
   ]
  },
  {
   "cell_type": "code",
   "execution_count": 29,
   "id": "a59fa1e5",
   "metadata": {},
   "outputs": [
    {
     "name": "stdout",
     "output_type": "stream",
     "text": [
      "fruit : apple\n"
     ]
    }
   ],
   "source": [
    "print(c)"
   ]
  },
  {
   "cell_type": "code",
   "execution_count": 30,
   "id": "16d58c93",
   "metadata": {},
   "outputs": [],
   "source": [
    "c= c.upper()"
   ]
  },
  {
   "cell_type": "code",
   "execution_count": 31,
   "id": "32bdad45",
   "metadata": {},
   "outputs": [
    {
     "name": "stdout",
     "output_type": "stream",
     "text": [
      "FRUIT : APPLE\n"
     ]
    }
   ],
   "source": [
    "print(c)"
   ]
  },
  {
   "cell_type": "code",
   "execution_count": 32,
   "id": "8e2c2c88",
   "metadata": {},
   "outputs": [],
   "source": [
    "c = c.lower()"
   ]
  },
  {
   "cell_type": "code",
   "execution_count": 33,
   "id": "56a96ec3",
   "metadata": {},
   "outputs": [
    {
     "name": "stdout",
     "output_type": "stream",
     "text": [
      "fruit : apple\n"
     ]
    }
   ],
   "source": [
    "print(c)"
   ]
  },
  {
   "cell_type": "markdown",
   "id": "094bae2e",
   "metadata": {},
   "source": [
    "## 리스트와 튜플\n",
    "시퀀스 자료형 - 연속된 여러값들을 한 변수에 저장 \n",
    "\n",
    "리스트 = [값,값,값] - 수정, 추가 가능\n",
    "\n",
    "튜플 = (값,값,값) - 수정, 추가 불가능 \n",
    "\n",
    "list(튜플) - 튜플로 변환\n",
    "\n",
    "tuple(리스트) - 리스트로 변환"
   ]
  },
  {
   "cell_type": "code",
   "execution_count": 34,
   "id": "af7233ce",
   "metadata": {},
   "outputs": [],
   "source": [
    "a= [1,2,3,4,5]"
   ]
  },
  {
   "cell_type": "code",
   "execution_count": 35,
   "id": "cbbae779",
   "metadata": {},
   "outputs": [
    {
     "data": {
      "text/plain": [
       "list"
      ]
     },
     "execution_count": 35,
     "metadata": {},
     "output_type": "execute_result"
    }
   ],
   "source": [
    "type(a)"
   ]
  },
  {
   "cell_type": "code",
   "execution_count": 36,
   "id": "462b79af",
   "metadata": {},
   "outputs": [
    {
     "name": "stdout",
     "output_type": "stream",
     "text": [
      "[1, 2, 3, 4, 5]\n"
     ]
    }
   ],
   "source": [
    "print(a)"
   ]
  },
  {
   "cell_type": "code",
   "execution_count": 37,
   "id": "33413c1f",
   "metadata": {},
   "outputs": [],
   "source": [
    "b=(1,2,3,4,5)"
   ]
  },
  {
   "cell_type": "code",
   "execution_count": 38,
   "id": "7d27bb98",
   "metadata": {},
   "outputs": [
    {
     "data": {
      "text/plain": [
       "tuple"
      ]
     },
     "execution_count": 38,
     "metadata": {},
     "output_type": "execute_result"
    }
   ],
   "source": [
    "type(b)"
   ]
  },
  {
   "cell_type": "code",
   "execution_count": 39,
   "id": "9ff4c289",
   "metadata": {},
   "outputs": [
    {
     "name": "stdout",
     "output_type": "stream",
     "text": [
      "(1, 2, 3, 4, 5)\n"
     ]
    }
   ],
   "source": [
    "print(b)"
   ]
  },
  {
   "cell_type": "code",
   "execution_count": 40,
   "id": "637692ea",
   "metadata": {},
   "outputs": [],
   "source": [
    "a = []"
   ]
  },
  {
   "cell_type": "code",
   "execution_count": 41,
   "id": "a00e84bf",
   "metadata": {},
   "outputs": [
    {
     "name": "stdout",
     "output_type": "stream",
     "text": [
      "[]\n"
     ]
    }
   ],
   "source": [
    "print(a)"
   ]
  },
  {
   "cell_type": "code",
   "execution_count": 42,
   "id": "4089cf93",
   "metadata": {},
   "outputs": [],
   "source": [
    "b = ()"
   ]
  },
  {
   "cell_type": "code",
   "execution_count": 43,
   "id": "0dbde7bc",
   "metadata": {},
   "outputs": [
    {
     "name": "stdout",
     "output_type": "stream",
     "text": [
      "()\n"
     ]
    }
   ],
   "source": [
    "print(b)"
   ]
  },
  {
   "cell_type": "markdown",
   "id": "e671da23",
   "metadata": {},
   "source": [
    "## range 함수\n",
    "\n",
    "range(횟수) - 연속된 숫자를 생성하는 함수 \n",
    "\n",
    "range(시작, 끝, 증가폭) - 증가폭이 있는 연속된 숫자를 생성"
   ]
  },
  {
   "cell_type": "code",
   "execution_count": 45,
   "id": "8d5ea031",
   "metadata": {},
   "outputs": [
    {
     "data": {
      "text/plain": [
       "[0, 1, 2, 3, 4, 5, 6, 7, 8, 9]"
      ]
     },
     "execution_count": 45,
     "metadata": {},
     "output_type": "execute_result"
    }
   ],
   "source": [
    "list(range(10))"
   ]
  },
  {
   "cell_type": "code",
   "execution_count": 46,
   "id": "d17413d8",
   "metadata": {},
   "outputs": [
    {
     "data": {
      "text/plain": [
       "[1, 2, 3, 4, 5, 6, 7, 8, 9]"
      ]
     },
     "execution_count": 46,
     "metadata": {},
     "output_type": "execute_result"
    }
   ],
   "source": [
    "list(range(1,10))"
   ]
  },
  {
   "cell_type": "code",
   "execution_count": 47,
   "id": "07af5c5e",
   "metadata": {},
   "outputs": [
    {
     "data": {
      "text/plain": [
       "[1, 2, 3, 4, 5, 6, 7, 8, 9, 10]"
      ]
     },
     "execution_count": 47,
     "metadata": {},
     "output_type": "execute_result"
    }
   ],
   "source": [
    "list(range(1,11))"
   ]
  },
  {
   "cell_type": "code",
   "execution_count": 48,
   "id": "3962a343",
   "metadata": {},
   "outputs": [
    {
     "data": {
      "text/plain": [
       "(1, 2, 3, 4, 5, 6, 7, 8, 9, 10)"
      ]
     },
     "execution_count": 48,
     "metadata": {},
     "output_type": "execute_result"
    }
   ],
   "source": [
    "tuple(range(1,11))"
   ]
  },
  {
   "cell_type": "code",
   "execution_count": 50,
   "id": "99c4b32c",
   "metadata": {},
   "outputs": [
    {
     "data": {
      "text/plain": [
       "[10, 8, 6, 4, 2, 0, -2, -4, -6, -8]"
      ]
     },
     "execution_count": 50,
     "metadata": {},
     "output_type": "execute_result"
    }
   ],
   "source": [
    "list(range(10,-10,-2))"
   ]
  },
  {
   "cell_type": "markdown",
   "id": "b930689f",
   "metadata": {},
   "source": [
    "## 리스트 인덱스\n",
    "\n",
    "a = [1,2,3,4,5]\n",
    "\n",
    "idx =0,1,2,3,5\n",
    "\n",
    "슬라이스 한번에 여러 숫자 출력\n",
    "\n",
    "a[슬라이스 시작 인덱스 : 슬라이스 마지막 인덱스]\n",
    "\n",
    "a[인덱스 : 인덱스 : 증가폭] \n",
    "\n",
    "a[:끝 인덱스] \n",
    "\n",
    "a[시작 인덱스 : ] \n",
    "\n",
    "del a [시작 인덱스 : 끝인덱스] - 슬라이스 삭제"
   ]
  },
  {
   "cell_type": "code",
   "execution_count": 79,
   "id": "a440aae8",
   "metadata": {},
   "outputs": [],
   "source": [
    "a = [1,2,3,4,5]"
   ]
  },
  {
   "cell_type": "code",
   "execution_count": 80,
   "id": "aa7c39b6",
   "metadata": {},
   "outputs": [
    {
     "data": {
      "text/plain": [
       "3"
      ]
     },
     "execution_count": 80,
     "metadata": {},
     "output_type": "execute_result"
    }
   ],
   "source": [
    "a[2]"
   ]
  },
  {
   "cell_type": "code",
   "execution_count": 81,
   "id": "b9046e76",
   "metadata": {},
   "outputs": [
    {
     "data": {
      "text/plain": [
       "5"
      ]
     },
     "execution_count": 81,
     "metadata": {},
     "output_type": "execute_result"
    }
   ],
   "source": [
    "a[-1]"
   ]
  },
  {
   "cell_type": "code",
   "execution_count": 82,
   "id": "d862070e",
   "metadata": {},
   "outputs": [],
   "source": [
    "a[3]= 6"
   ]
  },
  {
   "cell_type": "code",
   "execution_count": 83,
   "id": "ce3df80d",
   "metadata": {},
   "outputs": [
    {
     "data": {
      "text/plain": [
       "[1, 2, 3, 6, 5]"
      ]
     },
     "execution_count": 83,
     "metadata": {},
     "output_type": "execute_result"
    }
   ],
   "source": [
    "a"
   ]
  },
  {
   "cell_type": "code",
   "execution_count": 84,
   "id": "8b14cd17",
   "metadata": {},
   "outputs": [
    {
     "data": {
      "text/plain": [
       "[1, 2, 3, 6]"
      ]
     },
     "execution_count": 84,
     "metadata": {},
     "output_type": "execute_result"
    }
   ],
   "source": [
    "a[0:4]"
   ]
  },
  {
   "cell_type": "code",
   "execution_count": 85,
   "id": "e6b7bca6",
   "metadata": {},
   "outputs": [
    {
     "data": {
      "text/plain": [
       "[6, 5]"
      ]
     },
     "execution_count": 85,
     "metadata": {},
     "output_type": "execute_result"
    }
   ],
   "source": [
    "a[3:5]"
   ]
  },
  {
   "cell_type": "code",
   "execution_count": 86,
   "id": "da5be041",
   "metadata": {},
   "outputs": [],
   "source": [
    "b= a[1:-2]"
   ]
  },
  {
   "cell_type": "code",
   "execution_count": 87,
   "id": "821cb545",
   "metadata": {},
   "outputs": [
    {
     "data": {
      "text/plain": [
       "[2, 3]"
      ]
     },
     "execution_count": 87,
     "metadata": {},
     "output_type": "execute_result"
    }
   ],
   "source": [
    "b"
   ]
  },
  {
   "cell_type": "code",
   "execution_count": 88,
   "id": "7b17a968",
   "metadata": {},
   "outputs": [],
   "source": [
    "b = [1,2,3,4,5,6,7,8,9,10]"
   ]
  },
  {
   "cell_type": "code",
   "execution_count": 89,
   "id": "4de0afff",
   "metadata": {},
   "outputs": [
    {
     "data": {
      "text/plain": [
       "[3, 5, 7]"
      ]
     },
     "execution_count": 89,
     "metadata": {},
     "output_type": "execute_result"
    }
   ],
   "source": [
    "b[2:8:2]"
   ]
  },
  {
   "cell_type": "code",
   "execution_count": 90,
   "id": "0da561ee",
   "metadata": {},
   "outputs": [
    {
     "data": {
      "text/plain": [
       "[1, 2, 3]"
      ]
     },
     "execution_count": 90,
     "metadata": {},
     "output_type": "execute_result"
    }
   ],
   "source": [
    "b[:3]"
   ]
  },
  {
   "cell_type": "code",
   "execution_count": 91,
   "id": "76fa0ff8",
   "metadata": {},
   "outputs": [
    {
     "data": {
      "text/plain": [
       "[5, 6, 7, 8, 9, 10]"
      ]
     },
     "execution_count": 91,
     "metadata": {},
     "output_type": "execute_result"
    }
   ],
   "source": [
    "b[4:]"
   ]
  },
  {
   "cell_type": "code",
   "execution_count": 92,
   "id": "4715c2ee",
   "metadata": {},
   "outputs": [],
   "source": [
    "b[2] = \"a\""
   ]
  },
  {
   "cell_type": "code",
   "execution_count": 93,
   "id": "a25cf7b6",
   "metadata": {},
   "outputs": [],
   "source": [
    "b[3] = \"b\""
   ]
  },
  {
   "cell_type": "code",
   "execution_count": 94,
   "id": "ce01ebfd",
   "metadata": {},
   "outputs": [],
   "source": [
    "b[4] = 'c'"
   ]
  },
  {
   "cell_type": "code",
   "execution_count": 95,
   "id": "54b985ae",
   "metadata": {},
   "outputs": [
    {
     "data": {
      "text/plain": [
       "[1, 2, 'a', 'b', 'c', 6, 7, 8, 9, 10]"
      ]
     },
     "execution_count": 95,
     "metadata": {},
     "output_type": "execute_result"
    }
   ],
   "source": [
    "b"
   ]
  },
  {
   "cell_type": "code",
   "execution_count": 96,
   "id": "6b126379",
   "metadata": {},
   "outputs": [],
   "source": [
    "b[5:7] = [\"d\",\"e\",\"f\"]"
   ]
  },
  {
   "cell_type": "code",
   "execution_count": 97,
   "id": "76d1ca43",
   "metadata": {},
   "outputs": [
    {
     "data": {
      "text/plain": [
       "[1, 2, 'a', 'b', 'c', 'd', 'e', 'f', 8, 9, 10]"
      ]
     },
     "execution_count": 97,
     "metadata": {},
     "output_type": "execute_result"
    }
   ],
   "source": [
    "b"
   ]
  },
  {
   "cell_type": "code",
   "execution_count": 98,
   "id": "654a7847",
   "metadata": {},
   "outputs": [],
   "source": [
    "b[8:] = ['g']"
   ]
  },
  {
   "cell_type": "code",
   "execution_count": 99,
   "id": "2ef70a67",
   "metadata": {},
   "outputs": [
    {
     "data": {
      "text/plain": [
       "[1, 2, 'a', 'b', 'c', 'd', 'e', 'f', 'g']"
      ]
     },
     "execution_count": 99,
     "metadata": {},
     "output_type": "execute_result"
    }
   ],
   "source": [
    "b"
   ]
  },
  {
   "cell_type": "code",
   "execution_count": 100,
   "id": "33ad90b0",
   "metadata": {},
   "outputs": [],
   "source": [
    "del b[:2]"
   ]
  },
  {
   "cell_type": "code",
   "execution_count": 101,
   "id": "5b2ef892",
   "metadata": {},
   "outputs": [
    {
     "data": {
      "text/plain": [
       "['a', 'b', 'c', 'd', 'e', 'f', 'g']"
      ]
     },
     "execution_count": 101,
     "metadata": {},
     "output_type": "execute_result"
    }
   ],
   "source": [
    "b"
   ]
  },
  {
   "cell_type": "markdown",
   "id": "8d7950da",
   "metadata": {},
   "source": [
    "## 리스트, 튜플 함수\n",
    "\n",
    "in - 특정값 있는지 확인 True, False로 출력됨\n",
    "\n",
    "(+) - 연결하기\n",
    "\n",
    "(*) - 반복하기\n",
    "\n",
    "len() - 요소 개수구하기\n",
    "\n",
    ".append(값) - 요소 추가하기 \n",
    "\n",
    ".extend(값) - 범위로 요소 추가하기\n",
    "\n",
    ".insert(인덱스,값) - 특정 인덱스에 요소 추가\n",
    "\n",
    ".pop(인덱스) - 리스트 요소 삭제 \n",
    "\n",
    ".remove(값) - 리스트 특정 값을 찾아서 삭제 \n",
    "\n",
    ".index(값) - 특정값의 인덱스 구하기\n",
    "\n",
    ".count(값) - 특정값의 갯수구하기\n",
    "\n",
    ".reverse() - 순서 뒤집기\n",
    "\n",
    ".sort() - 오름차순 정렬하기 \n",
    "\n",
    ".sort(reverse = True) - 정렬하기 내림차순 "
   ]
  },
  {
   "cell_type": "code",
   "execution_count": 103,
   "id": "a12de385",
   "metadata": {},
   "outputs": [],
   "source": [
    "a = [1,2,3,4,5]"
   ]
  },
  {
   "cell_type": "code",
   "execution_count": 104,
   "id": "d590c482",
   "metadata": {},
   "outputs": [
    {
     "data": {
      "text/plain": [
       "False"
      ]
     },
     "execution_count": 104,
     "metadata": {},
     "output_type": "execute_result"
    }
   ],
   "source": [
    "6 in a"
   ]
  },
  {
   "cell_type": "code",
   "execution_count": 105,
   "id": "566af413",
   "metadata": {},
   "outputs": [
    {
     "data": {
      "text/plain": [
       "True"
      ]
     },
     "execution_count": 105,
     "metadata": {},
     "output_type": "execute_result"
    }
   ],
   "source": [
    "2 in a"
   ]
  },
  {
   "cell_type": "code",
   "execution_count": 132,
   "id": "ef69d7e9",
   "metadata": {},
   "outputs": [
    {
     "data": {
      "text/plain": [
       "[1, 2, 3, 4, 5, 1, 2, 3]"
      ]
     },
     "execution_count": 132,
     "metadata": {},
     "output_type": "execute_result"
    }
   ],
   "source": [
    "a=[1,2,3,4,5]\n",
    "b = [1,2,3]\n",
    "a+b"
   ]
  },
  {
   "cell_type": "code",
   "execution_count": 133,
   "id": "6c8a06b7",
   "metadata": {},
   "outputs": [
    {
     "data": {
      "text/plain": [
       "5"
      ]
     },
     "execution_count": 133,
     "metadata": {},
     "output_type": "execute_result"
    }
   ],
   "source": [
    "len(a)"
   ]
  },
  {
   "cell_type": "code",
   "execution_count": 134,
   "id": "40b35a9b",
   "metadata": {},
   "outputs": [],
   "source": [
    "a.append(6)"
   ]
  },
  {
   "cell_type": "code",
   "execution_count": 135,
   "id": "7dfc81f0",
   "metadata": {},
   "outputs": [
    {
     "data": {
      "text/plain": [
       "[1, 2, 3, 4, 5, 6]"
      ]
     },
     "execution_count": 135,
     "metadata": {},
     "output_type": "execute_result"
    }
   ],
   "source": [
    "a"
   ]
  },
  {
   "cell_type": "code",
   "execution_count": 136,
   "id": "f58ee956",
   "metadata": {},
   "outputs": [],
   "source": [
    "a.extend([7,8,9])"
   ]
  },
  {
   "cell_type": "code",
   "execution_count": 137,
   "id": "218a011b",
   "metadata": {},
   "outputs": [
    {
     "data": {
      "text/plain": [
       "[1, 2, 3, 4, 5, 6, 7, 8, 9]"
      ]
     },
     "execution_count": 137,
     "metadata": {},
     "output_type": "execute_result"
    }
   ],
   "source": [
    "a"
   ]
  },
  {
   "cell_type": "code",
   "execution_count": 138,
   "id": "5edc3968",
   "metadata": {},
   "outputs": [],
   "source": [
    "a.append([10,11])"
   ]
  },
  {
   "cell_type": "code",
   "execution_count": 139,
   "id": "39c191c9",
   "metadata": {},
   "outputs": [
    {
     "data": {
      "text/plain": [
       "[1, 2, 3, 4, 5, 6, 7, 8, 9, [10, 11]]"
      ]
     },
     "execution_count": 139,
     "metadata": {},
     "output_type": "execute_result"
    }
   ],
   "source": [
    "a"
   ]
  },
  {
   "cell_type": "code",
   "execution_count": 140,
   "id": "1c629e5e",
   "metadata": {},
   "outputs": [],
   "source": [
    "a.insert(0,0)"
   ]
  },
  {
   "cell_type": "code",
   "execution_count": 141,
   "id": "ee7cb77d",
   "metadata": {},
   "outputs": [
    {
     "data": {
      "text/plain": [
       "[0, 1, 2, 3, 4, 5, 6, 7, 8, 9, [10, 11]]"
      ]
     },
     "execution_count": 141,
     "metadata": {},
     "output_type": "execute_result"
    }
   ],
   "source": [
    "a"
   ]
  },
  {
   "cell_type": "code",
   "execution_count": 142,
   "id": "73cdc6eb",
   "metadata": {},
   "outputs": [
    {
     "data": {
      "text/plain": [
       "[10, 11]"
      ]
     },
     "execution_count": 142,
     "metadata": {},
     "output_type": "execute_result"
    }
   ],
   "source": [
    "a.pop(10)"
   ]
  },
  {
   "cell_type": "code",
   "execution_count": 143,
   "id": "2b0f477c",
   "metadata": {},
   "outputs": [
    {
     "data": {
      "text/plain": [
       "[0, 1, 2, 3, 4, 5, 6, 7, 8, 9]"
      ]
     },
     "execution_count": 143,
     "metadata": {},
     "output_type": "execute_result"
    }
   ],
   "source": [
    "a"
   ]
  },
  {
   "cell_type": "code",
   "execution_count": 144,
   "id": "da8dd928",
   "metadata": {},
   "outputs": [],
   "source": [
    "a.remove(0)"
   ]
  },
  {
   "cell_type": "code",
   "execution_count": 148,
   "id": "2e1cd7ff",
   "metadata": {},
   "outputs": [],
   "source": [
    "a.insert(3,3)"
   ]
  },
  {
   "cell_type": "code",
   "execution_count": 149,
   "id": "3f4f88e1",
   "metadata": {},
   "outputs": [
    {
     "data": {
      "text/plain": [
       "[1, 2, 3, 3, 4, 5, 6, 7, 8, 9]"
      ]
     },
     "execution_count": 149,
     "metadata": {},
     "output_type": "execute_result"
    }
   ],
   "source": [
    "a"
   ]
  },
  {
   "cell_type": "code",
   "execution_count": 150,
   "id": "0c176d1a",
   "metadata": {},
   "outputs": [
    {
     "data": {
      "text/plain": [
       "2"
      ]
     },
     "execution_count": 150,
     "metadata": {},
     "output_type": "execute_result"
    }
   ],
   "source": [
    "a.index(3)"
   ]
  },
  {
   "cell_type": "code",
   "execution_count": 151,
   "id": "0f3ba1c9",
   "metadata": {},
   "outputs": [
    {
     "data": {
      "text/plain": [
       "2"
      ]
     },
     "execution_count": 151,
     "metadata": {},
     "output_type": "execute_result"
    }
   ],
   "source": [
    "a.count(3)"
   ]
  },
  {
   "cell_type": "code",
   "execution_count": 152,
   "id": "bb584d87",
   "metadata": {},
   "outputs": [],
   "source": [
    "a= [1,5,3,2,4]"
   ]
  },
  {
   "cell_type": "code",
   "execution_count": 153,
   "id": "d494e0b6",
   "metadata": {},
   "outputs": [],
   "source": [
    "a.sort()"
   ]
  },
  {
   "cell_type": "code",
   "execution_count": 154,
   "id": "8beccfc6",
   "metadata": {},
   "outputs": [
    {
     "data": {
      "text/plain": [
       "[1, 2, 3, 4, 5]"
      ]
     },
     "execution_count": 154,
     "metadata": {},
     "output_type": "execute_result"
    }
   ],
   "source": [
    "a"
   ]
  },
  {
   "cell_type": "code",
   "execution_count": 155,
   "id": "a67a354f",
   "metadata": {},
   "outputs": [],
   "source": [
    "a.sort(reverse = False)"
   ]
  },
  {
   "cell_type": "code",
   "execution_count": 156,
   "id": "bed15f0b",
   "metadata": {},
   "outputs": [
    {
     "data": {
      "text/plain": [
       "[1, 2, 3, 4, 5]"
      ]
     },
     "execution_count": 156,
     "metadata": {},
     "output_type": "execute_result"
    }
   ],
   "source": [
    "a"
   ]
  },
  {
   "cell_type": "code",
   "execution_count": 157,
   "id": "c03bd34b",
   "metadata": {},
   "outputs": [],
   "source": [
    "a.sort(reverse = True)"
   ]
  },
  {
   "cell_type": "code",
   "execution_count": 158,
   "id": "42e536ed",
   "metadata": {},
   "outputs": [
    {
     "data": {
      "text/plain": [
       "[5, 4, 3, 2, 1]"
      ]
     },
     "execution_count": 158,
     "metadata": {},
     "output_type": "execute_result"
    }
   ],
   "source": [
    "a"
   ]
  },
  {
   "cell_type": "markdown",
   "id": "6a67d2c5",
   "metadata": {},
   "source": [
    "## 딕셔너리 \n",
    "\n",
    "딕셔너리 = {키1 : 값1, 키2 : 값2 } - 키와 값을 가짐\n",
    "\n",
    "인덱스 값을 사용하는게 아닌 키값을 사용함"
   ]
  },
  {
   "cell_type": "code",
   "execution_count": 166,
   "id": "ec771cea",
   "metadata": {},
   "outputs": [],
   "source": [
    "score = {'name' : 'zoom', 'math': 90, 'english' : 80}"
   ]
  },
  {
   "cell_type": "code",
   "execution_count": 167,
   "id": "4f6db516",
   "metadata": {},
   "outputs": [
    {
     "data": {
      "text/plain": [
       "dict"
      ]
     },
     "execution_count": 167,
     "metadata": {},
     "output_type": "execute_result"
    }
   ],
   "source": [
    "type(score)"
   ]
  },
  {
   "cell_type": "code",
   "execution_count": 168,
   "id": "f0c50e55",
   "metadata": {},
   "outputs": [
    {
     "data": {
      "text/plain": [
       "{'name': 'zoom', 'math': 90, 'english': 80}"
      ]
     },
     "execution_count": 168,
     "metadata": {},
     "output_type": "execute_result"
    }
   ],
   "source": [
    "score"
   ]
  },
  {
   "cell_type": "code",
   "execution_count": 170,
   "id": "3bcb89ca",
   "metadata": {},
   "outputs": [],
   "source": [
    "score['english'] = 75"
   ]
  },
  {
   "cell_type": "code",
   "execution_count": 171,
   "id": "648e925e",
   "metadata": {},
   "outputs": [
    {
     "data": {
      "text/plain": [
       "{'name': 'zoom', 'math': 90, 'english': 75}"
      ]
     },
     "execution_count": 171,
     "metadata": {},
     "output_type": "execute_result"
    }
   ],
   "source": [
    "score"
   ]
  },
  {
   "cell_type": "markdown",
   "id": "cfeeffaf",
   "metadata": {},
   "source": [
    "## 딕셔너리 함수\n",
    "\n",
    "키 in 함수 - 키가 있는지 확인 \n",
    "\n",
    "len(딕셔너리) - 키의 개수 \n",
    "\n",
    ".setdefault(키, 값) - 키 - 값 쌍 추가하기\n",
    "\n",
    ".update({키:값}) - 키- 값 수정하기\n",
    "\n",
    ".pop(키, 기본값) - 키로 딕셔너리 항목삭제 \n",
    "\n",
    ".clear() - 모든 값 삭제\n",
    "\n",
    ".keys() - 모든 키 가져오기\n",
    "\n",
    ".values() - 모든 값 가져오기\n",
    "\n",
    ".items() - 모든 키, 값 가져오기"
   ]
  },
  {
   "cell_type": "code",
   "execution_count": 172,
   "id": "f49bb268",
   "metadata": {},
   "outputs": [
    {
     "data": {
      "text/plain": [
       "True"
      ]
     },
     "execution_count": 172,
     "metadata": {},
     "output_type": "execute_result"
    }
   ],
   "source": [
    "'math' in score"
   ]
  },
  {
   "cell_type": "code",
   "execution_count": 173,
   "id": "0f3436f3",
   "metadata": {},
   "outputs": [
    {
     "data": {
      "text/plain": [
       "False"
      ]
     },
     "execution_count": 173,
     "metadata": {},
     "output_type": "execute_result"
    }
   ],
   "source": [
    "'age' in score"
   ]
  },
  {
   "cell_type": "code",
   "execution_count": 174,
   "id": "18e7de27",
   "metadata": {},
   "outputs": [
    {
     "data": {
      "text/plain": [
       "3"
      ]
     },
     "execution_count": 174,
     "metadata": {},
     "output_type": "execute_result"
    }
   ],
   "source": [
    "len(score)"
   ]
  },
  {
   "cell_type": "code",
   "execution_count": 175,
   "id": "02ed15ac",
   "metadata": {},
   "outputs": [
    {
     "data": {
      "text/plain": [
       "20"
      ]
     },
     "execution_count": 175,
     "metadata": {},
     "output_type": "execute_result"
    }
   ],
   "source": [
    "score.setdefault('age',20)"
   ]
  },
  {
   "cell_type": "code",
   "execution_count": 176,
   "id": "ac9c9bba",
   "metadata": {},
   "outputs": [
    {
     "data": {
      "text/plain": [
       "{'name': 'zoom', 'math': 90, 'english': 75, 'age': 20}"
      ]
     },
     "execution_count": 176,
     "metadata": {},
     "output_type": "execute_result"
    }
   ],
   "source": [
    "score"
   ]
  },
  {
   "cell_type": "code",
   "execution_count": 177,
   "id": "a6dfb75f",
   "metadata": {},
   "outputs": [],
   "source": [
    "score[\"email\"] = \"zoom_2@aa.com\""
   ]
  },
  {
   "cell_type": "code",
   "execution_count": 178,
   "id": "ae4ec20d",
   "metadata": {},
   "outputs": [
    {
     "data": {
      "text/plain": [
       "{'name': 'zoom',\n",
       " 'math': 90,\n",
       " 'english': 75,\n",
       " 'age': 20,\n",
       " 'email': 'zoom_2@aa.com'}"
      ]
     },
     "execution_count": 178,
     "metadata": {},
     "output_type": "execute_result"
    }
   ],
   "source": [
    "score"
   ]
  },
  {
   "cell_type": "code",
   "execution_count": 180,
   "id": "9127d6b5",
   "metadata": {},
   "outputs": [],
   "source": [
    "score.update({\"math\":88})"
   ]
  },
  {
   "cell_type": "code",
   "execution_count": 181,
   "id": "7017c01c",
   "metadata": {},
   "outputs": [
    {
     "data": {
      "text/plain": [
       "{'name': 'zoom',\n",
       " 'math': 88,\n",
       " 'english': 75,\n",
       " 'age': 20,\n",
       " 'email': 'zoom_2@aa.com'}"
      ]
     },
     "execution_count": 181,
     "metadata": {},
     "output_type": "execute_result"
    }
   ],
   "source": [
    "score"
   ]
  },
  {
   "cell_type": "code",
   "execution_count": 182,
   "id": "23e887bc",
   "metadata": {},
   "outputs": [
    {
     "data": {
      "text/plain": [
       "'zoom_2@aa.com'"
      ]
     },
     "execution_count": 182,
     "metadata": {},
     "output_type": "execute_result"
    }
   ],
   "source": [
    "score.pop(\"email\")"
   ]
  },
  {
   "cell_type": "code",
   "execution_count": 183,
   "id": "57edfe2b",
   "metadata": {},
   "outputs": [
    {
     "data": {
      "text/plain": [
       "{'name': 'zoom', 'math': 88, 'english': 75, 'age': 20}"
      ]
     },
     "execution_count": 183,
     "metadata": {},
     "output_type": "execute_result"
    }
   ],
   "source": [
    "score"
   ]
  },
  {
   "cell_type": "code",
   "execution_count": 184,
   "id": "fa39fe73",
   "metadata": {},
   "outputs": [
    {
     "data": {
      "text/plain": [
       "dict_keys(['name', 'math', 'english', 'age'])"
      ]
     },
     "execution_count": 184,
     "metadata": {},
     "output_type": "execute_result"
    }
   ],
   "source": [
    "score.keys()"
   ]
  },
  {
   "cell_type": "code",
   "execution_count": 186,
   "id": "a21d5840",
   "metadata": {},
   "outputs": [
    {
     "data": {
      "text/plain": [
       "dict_values(['zoom', 88, 75, 20])"
      ]
     },
     "execution_count": 186,
     "metadata": {},
     "output_type": "execute_result"
    }
   ],
   "source": [
    "score.values()"
   ]
  },
  {
   "cell_type": "code",
   "execution_count": 187,
   "id": "cbff7c58",
   "metadata": {},
   "outputs": [
    {
     "data": {
      "text/plain": [
       "dict_items([('name', 'zoom'), ('math', 88), ('english', 75), ('age', 20)])"
      ]
     },
     "execution_count": 187,
     "metadata": {},
     "output_type": "execute_result"
    }
   ],
   "source": [
    "score.items()"
   ]
  },
  {
   "cell_type": "code",
   "execution_count": null,
   "id": "be2635d0",
   "metadata": {},
   "outputs": [],
   "source": []
  }
 ],
 "metadata": {
  "kernelspec": {
   "display_name": "Python 3 (ipykernel)",
   "language": "python",
   "name": "python3"
  },
  "language_info": {
   "codemirror_mode": {
    "name": "ipython",
    "version": 3
   },
   "file_extension": ".py",
   "mimetype": "text/x-python",
   "name": "python",
   "nbconvert_exporter": "python",
   "pygments_lexer": "ipython3",
   "version": "3.9.13"
  }
 },
 "nbformat": 4,
 "nbformat_minor": 5
}
