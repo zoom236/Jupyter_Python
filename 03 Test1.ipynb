{
 "cells": [
  {
   "cell_type": "markdown",
   "id": "aa214bfc",
   "metadata": {},
   "source": [
    "## TEST1\n",
    "\n",
    "사용자로 점수를 3개 입력받아 모든 점수가 65보다 클 경우 합격 아닐경우 불합격을 출력하세요\n",
    "\n",
    "단, 0~100이 아닌 숫자가 입력도니 경우 '잘못된 점수가 입력되었습니다.' 를 출력하세요"
   ]
  },
  {
   "cell_type": "code",
   "execution_count": 21,
   "id": "2a7dbb09",
   "metadata": {},
   "outputs": [
    {
     "name": "stdout",
     "output_type": "stream",
     "text": [
      "첫번째 점수를 입력하세요 :120\n",
      "두번째 점수를 입력하세요 :80\n",
      "세번째 점수를 입력하세요 :60\n",
      "잘못된 점수가 입력되었습니다.\n"
     ]
    }
   ],
   "source": [
    "score1 = int(input(\"첫번째 점수를 입력하세요 :\"))\n",
    "score2 = int(input(\"두번째 점수를 입력하세요 :\"))\n",
    "score3 = int(input(\"세번째 점수를 입력하세요 :\"))\n",
    "\n",
    "if 0<=score1<=100 and 0<=score2<=100 and 0<=score3<=100 :\n",
    "\n",
    "    if score1 > 65 and score2 > 65 and score3 > 65 :\n",
    "        print(\"합격입니다.\")\n",
    "    else :\n",
    "        print(\"불합격입니다.\")\n",
    "else : \n",
    "    print(\"잘못된 점수가 입력되었습니다.\")"
   ]
  },
  {
   "cell_type": "code",
   "execution_count": 18,
   "id": "a90dfe24",
   "metadata": {},
   "outputs": [
    {
     "name": "stdout",
     "output_type": "stream",
     "text": [
      "첫번째 점수를 입력하세요 :80\n",
      "두번째 점수를 입력하세요 :90\n",
      "세번째 점수를 입력하세요 :75\n",
      "합격입니다.\n"
     ]
    }
   ],
   "source": [
    "score1 = int(input(\"첫번째 점수를 입력하세요 :\"))\n",
    "score2 = int(input(\"두번째 점수를 입력하세요 :\"))\n",
    "score3 = int(input(\"세번째 점수를 입력하세요 :\"))\n",
    "\n",
    "if 0<=score1<=100 and 0<=score2<=100 and 0<=score3<=100 :\n",
    "\n",
    "    if score1 > 65 and score2 > 65 and score3 > 65 :\n",
    "        print(\"합격입니다.\")\n",
    "    else :\n",
    "        print(\"불합격입니다.\")\n",
    "else : \n",
    "    print(\"잘못된 점수가 입력되었습니다.\")"
   ]
  },
  {
   "cell_type": "code",
   "execution_count": 20,
   "id": "6818764d",
   "metadata": {},
   "outputs": [
    {
     "name": "stdout",
     "output_type": "stream",
     "text": [
      "첫번째 점수를 입력하세요 :50\n",
      "두번째 점수를 입력하세요 :60\n",
      "세번째 점수를 입력하세요 :90\n",
      "불합격입니다.\n"
     ]
    }
   ],
   "source": [
    "score1 = int(input(\"첫번째 점수를 입력하세요 :\"))\n",
    "score2 = int(input(\"두번째 점수를 입력하세요 :\"))\n",
    "score3 = int(input(\"세번째 점수를 입력하세요 :\"))\n",
    "\n",
    "if 0<=score1<=100 and 0<=score2<=100 and 0<=score3<=100 :\n",
    "\n",
    "    if score1 > 65 and score2 > 65 and score3 > 65 :\n",
    "        print(\"합격입니다.\")\n",
    "    else :\n",
    "        print(\"불합격입니다.\")\n",
    "else : \n",
    "    print(\"잘못된 점수가 입력되었습니다.\")\n"
   ]
  },
  {
   "cell_type": "markdown",
   "id": "c402354f",
   "metadata": {},
   "source": [
    "## Test2\n",
    "\n",
    "fruit= ['사과','오렌지']\n",
    "\n",
    "vegetable = ['당근','호박']\n",
    "\n",
    "위와 같은 리스트 두개를 만들고 유저로부터 카테고리와 삼풍명을 입력받아 카테고리가 과일일 때는 fruit 리스트에 카테고리가 \n",
    "\n",
    "채소일 때는 vegetable 리스트에 상품을 추가하고 리스트의 모든 내용을 출력해주세요.\n",
    "\n",
    "단, 카테고리명이 채소나 과일이 아닐 경우 \"존재하지 않는 카테고리입니다.\"\n",
    "\n",
    "이미 등록되어 있는 경우 \"이미 등록된 과일 입니다.\" or \"이미 등록된 채소입니다.\" 를 출력해주세요\n"
   ]
  },
  {
   "cell_type": "code",
   "execution_count": 37,
   "id": "c8bc607e",
   "metadata": {},
   "outputs": [
    {
     "name": "stdout",
     "output_type": "stream",
     "text": [
      "등록할 카테고리를 선택해주세요(과일, 채소) : 채소\n",
      "등록할 채소를 입력해주세요 : 당근\n",
      "이미 등록된 채소입니다.\n"
     ]
    }
   ],
   "source": [
    "fruit = ['사과','오렌지']\n",
    "vegetable = ['당근','호박']\n",
    "\n",
    "category = input(\"등록할 카테고리를 선택해주세요(과일, 채소) : \")\n",
    "\n",
    "if category == \"과일\" :\n",
    "    fru_input = input(\"등록할 과일을 입력해주세요 : \")\n",
    "    if fru_input in fruit :\n",
    "        print(\"이미 등록된 과일입니다.\")\n",
    "    else : \n",
    "        fruit.append(fru_input)\n",
    "        print(fruit)\n",
    "elif category == \"채소\" :\n",
    "    veg_input =input(\"등록할 채소를 입력해주세요 : \")\n",
    "    if veg_input in vegetable :\n",
    "        print(\"이미 등록된 채소입니다.\")\n",
    "    else:\n",
    "        vegetable.append(veg_input)\n",
    "        print(vegetable)\n",
    "else :\n",
    "    print(\"존재하지 않는 카테고리입니다.\")\n"
   ]
  },
  {
   "cell_type": "code",
   "execution_count": 38,
   "id": "0d5cda08",
   "metadata": {},
   "outputs": [
    {
     "name": "stdout",
     "output_type": "stream",
     "text": [
      "등록할 카테고리를 선택해주세요(과일, 채소) : 과일\n",
      "등록할 과일을 입력해주세요 : 바나나\n",
      "['사과', '오렌지', '바나나']\n"
     ]
    }
   ],
   "source": [
    "fruit = ['사과','오렌지']\n",
    "vegetable = ['당근','호박']\n",
    "\n",
    "category = input(\"등록할 카테고리를 선택해주세요(과일, 채소) : \")\n",
    "\n",
    "if category == \"과일\" :\n",
    "    fru_input = input(\"등록할 과일을 입력해주세요 : \")\n",
    "    if fru_input in fruit :\n",
    "        print(\"이미 등록된 과일입니다.\")\n",
    "    else : \n",
    "        fruit.append(fru_input)\n",
    "        print(fruit)\n",
    "elif category == \"채소\" :\n",
    "    veg_input =input(\"등록할 채소를 입력해주세요 : \")\n",
    "    if veg_input in vegetable :\n",
    "        print(\"이미 등록된 채소입니다.\")\n",
    "    else:\n",
    "        vegetable.append(veg_input)\n",
    "        print(vegetable)\n",
    "else :\n",
    "    print(\"존재하지 않는 카테고리입니다.\")\n"
   ]
  },
  {
   "cell_type": "code",
   "execution_count": 39,
   "id": "b080c2b9",
   "metadata": {},
   "outputs": [
    {
     "name": "stdout",
     "output_type": "stream",
     "text": [
      "등록할 카테고리를 선택해주세요(과일, 채소) : 야채\n",
      "존재하지 않는 카테고리입니다.\n"
     ]
    }
   ],
   "source": [
    "fruit = ['사과','오렌지']\n",
    "vegetable = ['당근','호박']\n",
    "\n",
    "category = input(\"등록할 카테고리를 선택해주세요(과일, 채소) : \")\n",
    "\n",
    "if category == \"과일\" :\n",
    "    fru_input = input(\"등록할 과일을 입력해주세요 : \")\n",
    "    if fru_input in fruit :\n",
    "        print(\"이미 등록된 과일입니다.\")\n",
    "    else : \n",
    "        fruit.append(fru_input)\n",
    "        print(fruit)\n",
    "elif category == \"채소\" :\n",
    "    veg_input =input(\"등록할 채소를 입력해주세요 : \")\n",
    "    if veg_input in vegetable :\n",
    "        print(\"이미 등록된 채소입니다.\")\n",
    "    else:\n",
    "        vegetable.append(veg_input)\n",
    "        print(vegetable)\n",
    "else :\n",
    "    print(\"존재하지 않는 카테고리입니다.\")\n"
   ]
  },
  {
   "cell_type": "code",
   "execution_count": null,
   "id": "9368623f",
   "metadata": {},
   "outputs": [],
   "source": []
  }
 ],
 "metadata": {
  "kernelspec": {
   "display_name": "Python 3 (ipykernel)",
   "language": "python",
   "name": "python3"
  },
  "language_info": {
   "codemirror_mode": {
    "name": "ipython",
    "version": 3
   },
   "file_extension": ".py",
   "mimetype": "text/x-python",
   "name": "python",
   "nbconvert_exporter": "python",
   "pygments_lexer": "ipython3",
   "version": "3.9.13"
  }
 },
 "nbformat": 4,
 "nbformat_minor": 5
}
