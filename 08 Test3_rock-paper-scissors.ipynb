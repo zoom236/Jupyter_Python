{
 "cells": [
  {
   "cell_type": "markdown",
   "id": "a97d519e",
   "metadata": {},
   "source": [
    "## TEST1 ) 가위바위보게임\n",
    "\n",
    "import random → 랜덤 모듈 호출\n",
    "가위(1) / 바위(2) / 보(3) 을 입력받아 컴퓨터와 가위바위보 게임을 하시오 \n",
    "1-3을 입력하면 게임 진행 이외의 숫자를 입력하면 게임 종료 "
   ]
  },
  {
   "cell_type": "code",
   "execution_count": 1,
   "id": "7c8c9a61",
   "metadata": {},
   "outputs": [],
   "source": [
    "#참고 \n",
    "\n",
    "import random\n",
    "a = random.random()\n",
    "b = random.randint(1,3)"
   ]
  },
  {
   "cell_type": "code",
   "execution_count": 4,
   "id": "f8ce59b7",
   "metadata": {},
   "outputs": [
    {
     "name": "stdout",
     "output_type": "stream",
     "text": [
      "0.6087069995208176\n"
     ]
    }
   ],
   "source": [
    "print(a)"
   ]
  },
  {
   "cell_type": "code",
   "execution_count": 6,
   "id": "67dd0420",
   "metadata": {},
   "outputs": [
    {
     "name": "stdout",
     "output_type": "stream",
     "text": [
      "3\n"
     ]
    }
   ],
   "source": [
    "print(b)"
   ]
  },
  {
   "cell_type": "code",
   "execution_count": 7,
   "id": "579dfa66",
   "metadata": {},
   "outputs": [
    {
     "name": "stdout",
     "output_type": "stream",
     "text": [
      "가위(1), 바위(2), 보(3) 중 하나를 입력해주세요 : 1\n",
      "유저 : 가위, 컴퓨터 : 바위 패배\n",
      "\n",
      "가위(1), 바위(2), 보(3) 중 하나를 입력해주세요 : 2\n",
      "유저 : 바위, 컴퓨터 : 바위 무승부\n",
      "\n",
      "가위(1), 바위(2), 보(3) 중 하나를 입력해주세요 : 3\n",
      "유저 : 보, 컴퓨터 : 바위 승리\n",
      "\n",
      "가위(1), 바위(2), 보(3) 중 하나를 입력해주세요 : 1\n",
      "유저 : 가위, 컴퓨터 : 가위 무승부\n",
      "\n",
      "가위(1), 바위(2), 보(3) 중 하나를 입력해주세요 : 2\n",
      "유저 : 바위, 컴퓨터 : 보 패배\n",
      "\n",
      "가위(1), 바위(2), 보(3) 중 하나를 입력해주세요 : 3\n",
      "유저 : 보, 컴퓨터 : 가위 패배\n",
      "\n",
      "가위(1), 바위(2), 보(3) 중 하나를 입력해주세요 : 2\n",
      "유저 : 바위, 컴퓨터 : 가위 승리\n",
      "\n",
      "가위(1), 바위(2), 보(3) 중 하나를 입력해주세요 : 13\n",
      "총 게임 횟수: 7, 이긴횟수 : 2\n"
     ]
    }
   ],
   "source": [
    "\n",
    "total = 0\n",
    "win = 0\n",
    "select = [\"\",\"가위\",\"바위\",\"보\"]\n",
    "while True :\n",
    "    user = int(input(\"가위(1), 바위(2), 보(3) 중 하나를 입력해주세요 : \"))\n",
    "    computer = random.randint(1,3)\n",
    "    if 0 < user < 4 :\n",
    "        total += 1  \n",
    "        \n",
    "        if (user == 1 and computer == 3) or (user ==2 and computer == 1) or (user ==3 and computer == 2) :\n",
    "            print(f\"유저 : {select[user]}, 컴퓨터 : {select[computer]} 승리\")\n",
    "            print('')\n",
    "            win +=1\n",
    "            pass\n",
    "        \n",
    "        elif (user== computer) :\n",
    "            print(f\"유저 : {select[user]}, 컴퓨터 : {select[computer]} 무승부\")\n",
    "            print('')\n",
    "            pass\n",
    "        else : \n",
    "            print(f\"유저 : {select[user]}, 컴퓨터 : {select[computer]} 패배\")\n",
    "            print('')\n",
    "            pass\n",
    "    \n",
    "    else : \n",
    "        print(f\"총 게임 횟수: {total}, 이긴횟수 : {win}\")\n",
    "        break"
   ]
  },
  {
   "cell_type": "markdown",
   "id": "3593319a",
   "metadata": {},
   "source": [
    "# "
   ]
  }
 ],
 "metadata": {
  "kernelspec": {
   "display_name": "Python 3 (ipykernel)",
   "language": "python",
   "name": "python3"
  },
  "language_info": {
   "codemirror_mode": {
    "name": "ipython",
    "version": 3
   },
   "file_extension": ".py",
   "mimetype": "text/x-python",
   "name": "python",
   "nbconvert_exporter": "python",
   "pygments_lexer": "ipython3",
   "version": "3.9.13"
  }
 },
 "nbformat": 4,
 "nbformat_minor": 5
}
