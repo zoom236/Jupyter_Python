{
 "cells": [
  {
   "cell_type": "markdown",
   "id": "73f6c664",
   "metadata": {},
   "source": [
    "## while 반복문\n",
    "어떠한 코드를 반복해야할 때 사용 조건에 따라 반복 (주로 반복 횟수가 정해져 있지 않을때 )\n",
    "\n",
    "while 조건식 :\n",
    "\n",
    "코드"
   ]
  },
  {
   "cell_type": "code",
   "execution_count": 1,
   "id": "e99a64d4",
   "metadata": {},
   "outputs": [
    {
     "name": "stdout",
     "output_type": "stream",
     "text": [
      "현재값 0\n",
      "현재값 1\n",
      "현재값 2\n",
      "현재값 3\n",
      "현재값 4\n",
      "현재값 5\n",
      "현재값 6\n",
      "현재값 7\n",
      "현재값 8\n",
      "현재값 9\n"
     ]
    }
   ],
   "source": [
    "i = 0\n",
    "\n",
    "while i < 10 :\n",
    "    print(\"현재값\",i)\n",
    "    i += 1"
   ]
  },
  {
   "cell_type": "markdown",
   "id": "17baa120",
   "metadata": {},
   "source": [
    "## 입력 조건이 맞을 때 까지 반복하기"
   ]
  },
  {
   "cell_type": "code",
   "execution_count": 2,
   "id": "315ace1d",
   "metadata": {},
   "outputs": [
    {
     "name": "stdout",
     "output_type": "stream",
     "text": [
      "5를 입력하면 반복이 중단됩니다.3\n",
      "5를 입력하면 반복이 중단됩니다.2\n",
      "5를 입력하면 반복이 중단됩니다.4\n",
      "5를 입력하면 반복이 중단됩니다.5\n"
     ]
    }
   ],
   "source": [
    "i = 0\n",
    "while i!= 5:\n",
    "    i = int(input(\"5를 입력하면 반복이 중단됩니다.\"))"
   ]
  },
  {
   "cell_type": "markdown",
   "id": "0da5a735",
   "metadata": {},
   "source": [
    "## 입력 횟수 만큼 반복하기"
   ]
  },
  {
   "cell_type": "code",
   "execution_count": 3,
   "id": "c1700d34",
   "metadata": {},
   "outputs": [
    {
     "name": "stdout",
     "output_type": "stream",
     "text": [
      "반복횟수?3\n",
      "입력한 횟 수 만큼 반복합니다.\n",
      "입력한 횟 수 만큼 반복합니다.\n",
      "입력한 횟 수 만큼 반복합니다.\n"
     ]
    }
   ],
   "source": [
    "count = int(input(\"반복횟수?\"))\n",
    "i = 0\n",
    "while i < count :\n",
    "    print('입력한 횟 수 만큼 반복합니다.')\n",
    "    i +=1\n",
    "    "
   ]
  },
  {
   "cell_type": "markdown",
   "id": "252157c2",
   "metadata": {},
   "source": [
    "## for, while 에서 제어 흐름을 벗어나기 위해 사용 \n",
    "break : 완전히 중단\n",
    "\n",
    "continue : 이번 반복만 중단하고 처음으로 돌아가 반복 수행 "
   ]
  },
  {
   "cell_type": "code",
   "execution_count": 4,
   "id": "933ebc02",
   "metadata": {},
   "outputs": [
    {
     "name": "stdout",
     "output_type": "stream",
     "text": [
      "0 1 2 "
     ]
    }
   ],
   "source": [
    "for i in range(5):\n",
    "    if i == 3:\n",
    "        break\n",
    "    print(i, end = \" \")"
   ]
  },
  {
   "cell_type": "code",
   "execution_count": 7,
   "id": "3c4b5e05",
   "metadata": {},
   "outputs": [
    {
     "name": "stdout",
     "output_type": "stream",
     "text": [
      "0 1 2 4 "
     ]
    }
   ],
   "source": [
    "for i in range(5):\n",
    "    if i == 3 :\n",
    "        continue\n",
    "    print(i, end = \" \")"
   ]
  },
  {
   "cell_type": "code",
   "execution_count": null,
   "id": "7e6cd769",
   "metadata": {},
   "outputs": [],
   "source": []
  }
 ],
 "metadata": {
  "kernelspec": {
   "display_name": "Python 3 (ipykernel)",
   "language": "python",
   "name": "python3"
  },
  "language_info": {
   "codemirror_mode": {
    "name": "ipython",
    "version": 3
   },
   "file_extension": ".py",
   "mimetype": "text/x-python",
   "name": "python",
   "nbconvert_exporter": "python",
   "pygments_lexer": "ipython3",
   "version": "3.9.13"
  }
 },
 "nbformat": 4,
 "nbformat_minor": 5
}
