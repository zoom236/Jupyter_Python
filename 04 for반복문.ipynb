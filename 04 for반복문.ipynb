{
 "cells": [
  {
   "cell_type": "markdown",
   "id": "38e4ecac",
   "metadata": {},
   "source": [
    "## for 반복문\n",
    "\n",
    "- 어떠한 코드를 반복해야 할 때 사용 지정된 범위만큼 (주로 반복횟수가 정해져있을 때 사용) \n",
    "\n",
    "for 변수 in 값이 여러개인 자료형이나 변수 :\n",
    "\n",
    "    코드\n",
    "코드를 출력하면 줄이 바뀌어서 출력됨 \n",
    "print(end = \" \") → 줄이 바뀌지 않고 한칸씩 띄워져서 출력됨"
   ]
  },
  {
   "cell_type": "code",
   "execution_count": 1,
   "id": "ef0e2a28",
   "metadata": {},
   "outputs": [
    {
     "name": "stdout",
     "output_type": "stream",
     "text": [
      "현재값 0\n",
      "현재값 1\n",
      "현재값 2\n",
      "현재값 3\n",
      "현재값 4\n",
      "현재값 5\n",
      "현재값 6\n",
      "현재값 7\n",
      "현재값 8\n",
      "현재값 9\n"
     ]
    }
   ],
   "source": [
    "for i in range(0,10):\n",
    "    print(\"현재값\",i)"
   ]
  },
  {
   "cell_type": "code",
   "execution_count": 3,
   "id": "53e396d7",
   "metadata": {},
   "outputs": [
    {
     "name": "stdout",
     "output_type": "stream",
     "text": [
      "현재값 10 현재값 9 현재값 8 현재값 7 현재값 6 현재값 5 현재값 4 현재값 3 현재값 2 현재값 1 "
     ]
    }
   ],
   "source": [
    "for i in range(10,0,-1):\n",
    "    print(\"현재값\", i, end = \" \")"
   ]
  },
  {
   "cell_type": "markdown",
   "id": "57be63eb",
   "metadata": {},
   "source": [
    "## for 문과 다양한 자료형들 \n",
    "\n",
    "a = [1,2,3,4,5,6,7]\n",
    "\n",
    "b = {'name' : 'zoom', 'math': 80, 'english':90}\n",
    "\n",
    "for i in a → a에 들어 있는 숫자 1,2,3,4,5,6,7 이 i에 순서대로 들어감\n",
    "\n",
    "for i in \"Orange\" → 문자열의 개수만큼 for문 반복 i에는 문자의 값들 하나하나가 들어감 \n",
    "\n",
    "for i in b → 키-값 이 3개 므로 3번 반복, 키가 출력됨, 값을 출력하고 싶을 경우 b[i]"
   ]
  },
  {
   "cell_type": "code",
   "execution_count": 4,
   "id": "f6f11c21",
   "metadata": {},
   "outputs": [],
   "source": [
    "a=[1,2,3,4,5,6,7]\n",
    "b={'name':'zoom','math':90, 'english': 80}"
   ]
  },
  {
   "cell_type": "code",
   "execution_count": 5,
   "id": "2436a083",
   "metadata": {},
   "outputs": [
    {
     "name": "stdout",
     "output_type": "stream",
     "text": [
      "1\n",
      "2\n",
      "3\n",
      "4\n",
      "5\n",
      "6\n",
      "7\n"
     ]
    }
   ],
   "source": [
    "for i in a :\n",
    "    print(i)"
   ]
  },
  {
   "cell_type": "code",
   "execution_count": 7,
   "id": "cbd92c6e",
   "metadata": {},
   "outputs": [
    {
     "name": "stdout",
     "output_type": "stream",
     "text": [
      "O r a n g e "
     ]
    }
   ],
   "source": [
    "for i in \"Orange\":\n",
    "    print(i, end = \" \")"
   ]
  },
  {
   "cell_type": "code",
   "execution_count": 9,
   "id": "a3d7a31b",
   "metadata": {},
   "outputs": [
    {
     "name": "stdout",
     "output_type": "stream",
     "text": [
      "name\n",
      "math\n",
      "english\n"
     ]
    }
   ],
   "source": [
    "for i in b :\n",
    "    print(i)"
   ]
  },
  {
   "cell_type": "code",
   "execution_count": 10,
   "id": "5f54ffc1",
   "metadata": {},
   "outputs": [
    {
     "name": "stdout",
     "output_type": "stream",
     "text": [
      "{'name': 'zoom', 'math': 90, 'english': 80}\n",
      "{'name': 'zoom', 'math': 90, 'english': 80}\n",
      "{'name': 'zoom', 'math': 90, 'english': 80}\n"
     ]
    }
   ],
   "source": [
    "for i in b :\n",
    "    print(b)"
   ]
  },
  {
   "cell_type": "code",
   "execution_count": 15,
   "id": "c16a4f18",
   "metadata": {},
   "outputs": [
    {
     "name": "stdout",
     "output_type": "stream",
     "text": [
      "zoom\n",
      "90\n",
      "80\n"
     ]
    }
   ],
   "source": [
    "for i in b:\n",
    "    print(b[i])"
   ]
  },
  {
   "cell_type": "markdown",
   "id": "64dd37c0",
   "metadata": {},
   "source": [
    "## enumerate 사용하여 index 접근 \n"
   ]
  },
  {
   "cell_type": "code",
   "execution_count": 16,
   "id": "c1f81f71",
   "metadata": {},
   "outputs": [
    {
     "name": "stdout",
     "output_type": "stream",
     "text": [
      "0,1\n",
      "1,2\n",
      "2,3\n",
      "3,4\n",
      "4,5\n",
      "5,6\n",
      "6,7\n"
     ]
    }
   ],
   "source": [
    "a= [1,2,3,4,5,6,7]\n",
    "for idx, val in enumerate(a) :\n",
    "    print(idx,val, sep = \",\")"
   ]
  },
  {
   "cell_type": "markdown",
   "id": "907a28f4",
   "metadata": {},
   "source": [
    "## 입력한 횟수만큼 반복하기"
   ]
  },
  {
   "cell_type": "code",
   "execution_count": 19,
   "id": "faa12db4",
   "metadata": {},
   "outputs": [
    {
     "name": "stdout",
     "output_type": "stream",
     "text": [
      "반복할 횟수?5\n",
      "hello\n",
      "hello\n",
      "hello\n",
      "hello\n",
      "hello\n"
     ]
    }
   ],
   "source": [
    "count =int(input(\"반복할 횟수?\"))\n",
    "for i in range(count):\n",
    "    print(\"hello\")"
   ]
  },
  {
   "cell_type": "markdown",
   "id": "5afb82e5",
   "metadata": {},
   "source": [
    "## for문 중첩 "
   ]
  },
  {
   "cell_type": "code",
   "execution_count": 21,
   "id": "10cbe653",
   "metadata": {},
   "outputs": [
    {
     "name": "stdout",
     "output_type": "stream",
     "text": [
      "***********\n",
      "j,0\n",
      "j,1\n",
      "j,2\n",
      "j,3\n",
      "j,4\n",
      "***********\n",
      "j,0\n",
      "j,1\n",
      "j,2\n",
      "j,3\n",
      "j,4\n",
      "***********\n",
      "j,0\n",
      "j,1\n",
      "j,2\n",
      "j,3\n",
      "j,4\n",
      "***********\n",
      "j,0\n",
      "j,1\n",
      "j,2\n",
      "j,3\n",
      "j,4\n",
      "***********\n",
      "j,0\n",
      "j,1\n",
      "j,2\n",
      "j,3\n",
      "j,4\n"
     ]
    }
   ],
   "source": [
    "for i in range(5) :\n",
    "    print('***********')\n",
    "    for j in range(5):\n",
    "        print(\"j\",j, sep = \",\")"
   ]
  },
  {
   "cell_type": "code",
   "execution_count": null,
   "id": "8d0af7a1",
   "metadata": {},
   "outputs": [],
   "source": []
  }
 ],
 "metadata": {
  "kernelspec": {
   "display_name": "Python 3 (ipykernel)",
   "language": "python",
   "name": "python3"
  },
  "language_info": {
   "codemirror_mode": {
    "name": "ipython",
    "version": 3
   },
   "file_extension": ".py",
   "mimetype": "text/x-python",
   "name": "python",
   "nbconvert_exporter": "python",
   "pygments_lexer": "ipython3",
   "version": "3.9.13"
  }
 },
 "nbformat": 4,
 "nbformat_minor": 5
}
